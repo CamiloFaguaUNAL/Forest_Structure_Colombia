{
 "cells": [
  {
   "cell_type": "markdown",
   "id": "2ff0d3ad",
   "metadata": {},
   "source": [
    "# Atmospheric and Topographic Correction for Sentinel-2 MSI: MultiSpectral Instrument, Level-1C\n",
    "Sentinel-2 2A imagery in Google Earth Engine was processed on a tile by tile basis so that atmospheric corrections are inconsistent from tile to tile. Anisotropy was also not well corrected for. To generate consistent mosaics, we adapted the approach described in Potapov et al. (2012) that uses long term averages of MODIS reflectance as a target to debias sentinel imagery at the scene level and across track (to correct for anisotropy). MODIS does not contain an analog for Sentinel's nir-2 band. Sentinel's nir-2 band was therefore corrected using the nearest MODIS band and should be used with caution. Topographic correction was done with the Sun-Canopy-Sensor + C (SCSc) using functions created by Matt Macander and Pat Burns.\n",
    "### Authors\n",
    "Sam Jantz  \n",
    "Patrick Jantz  \n",
    "Camilo Fagua  \n",
    "Pat Burns\n",
    "#### Date\n",
    "May 2022\n",
    "#### Contact\n",
    "Patrick.Jantz@nau.edu\n",
    "#### Refs\n",
    "Potapov, P.V., Turubanova, S.A., Hansen, M.C., Adusei, B., Broich, M., Altstatt, A., Mane, L. and Justice, C.O., 2012. Quantifying forest cover loss in Democratic Republic of the Congo, 2000–2010, with Landsat ETM+ data. Remote Sensing of Environment, 122, pp.106-116."
   ]
  },
  {
   "cell_type": "markdown",
   "id": "9324d141",
   "metadata": {},
   "source": [
    "### Imports"
   ]
  },
  {
   "cell_type": "code",
   "execution_count": 1,
   "id": "a74d1d6a",
   "metadata": {},
   "outputs": [],
   "source": [
    "import ee\n",
    "import geemap\n",
    "import sys, os, math\n",
    "import geopandas as gpd\n",
    "#import ipywidgets as widgets\n",
    "#from ipyleaflet import WidgetControl\n",
    "#sys.path.append('C:/Users/pj276/Projects/nasa_geo_colombia/code/sentinel2corrections')\n",
    "#import sentinel_functions as sfx"
   ]
  },
  {
   "cell_type": "code",
   "execution_count": 3,
   "id": "e2cce55a",
   "metadata": {},
   "outputs": [
    {
     "data": {
      "text/html": [
       "<p>To authorize access needed by Earth Engine, open the following\n",
       "        URL in a web browser and follow the instructions:</p>\n",
       "        <p><a href=https://code.earthengine.google.com/client-auth?scopes=https%3A//www.googleapis.com/auth/earthengine%20https%3A//www.googleapis.com/auth/devstorage.full_control&request_id=DuSv1w0k7QbXRHNsWwUhL-Qz9ToZwl7dWQYA6PJY9qg&tc=-JFYtG8Ogk7ttl7H_ATbVwbv8c4z6v3VtvBKZImH0yg&cc=WoFGuYfiVxvtAvB5aAWIrtmQMXHHzbukJ7JjRHl8a3I>https://code.earthengine.google.com/client-auth?scopes=https%3A//www.googleapis.com/auth/earthengine%20https%3A//www.googleapis.com/auth/devstorage.full_control&request_id=DuSv1w0k7QbXRHNsWwUhL-Qz9ToZwl7dWQYA6PJY9qg&tc=-JFYtG8Ogk7ttl7H_ATbVwbv8c4z6v3VtvBKZImH0yg&cc=WoFGuYfiVxvtAvB5aAWIrtmQMXHHzbukJ7JjRHl8a3I</a></p>\n",
       "        <p>The authorization workflow will generate a code, which you should paste in the box below.</p>\n",
       "        "
      ],
      "text/plain": [
       "<IPython.core.display.HTML object>"
      ]
     },
     "metadata": {},
     "output_type": "display_data"
    },
    {
     "name": "stdin",
     "output_type": "stream",
     "text": [
      "Enter verification code:  4/1AZEOvhXxWoiezOewOlmcqO3o06mi_uvNhxEZVJrHGrIOTLxc8g5QIYLYUGE\n"
     ]
    },
    {
     "name": "stdout",
     "output_type": "stream",
     "text": [
      "\n",
      "Successfully saved authorization token.\n"
     ]
    }
   ],
   "source": [
    "ee.Authenticate()\n",
    "ee.Initialize()"
   ]
  },
  {
   "cell_type": "code",
   "execution_count": 4,
   "id": "4d1b5ae1",
   "metadata": {},
   "outputs": [
    {
     "data": {
      "text/plain": [
       "{'type': 'Date', 'value': 1435400731456}"
      ]
     },
     "execution_count": 4,
     "metadata": {},
     "output_type": "execute_result"
    }
   ],
   "source": [
    "# Test connection\n",
    "ac = ee.ImageCollection('COPERNICUS/S2')\n",
    "ac.first().date().getInfo()"
   ]
  },
  {
   "cell_type": "markdown",
   "id": "2db290ad",
   "metadata": {},
   "source": [
    "### Functions"
   ]
  },
  {
   "cell_type": "code",
   "execution_count": 5,
   "id": "6da0584b",
   "metadata": {},
   "outputs": [],
   "source": [
    "# Functions\n",
    "def getqa60LandMask(image):\n",
    "    # Get sentinel qa60 60m cloudmask band\n",
    "    qa = image.select('QA60')\n",
    "    cloudBitMask = 1 << 10\n",
    "    cirrusBitMask = 1 << 11\n",
    "    # Find pixels where both cirrus and opaque cloud are zero (not cloudy) in QA60\n",
    "    # Set these pixels to 1\n",
    "    # Set all other values to 0\n",
    "    mask = qa.bitwiseAnd(cloudBitMask).eq(0).And(qa.bitwiseAnd(cirrusBitMask).eq(0)).rename('qa60mask')\n",
    "    # Add land mask\n",
    "    lMask = image.select('SCL')\n",
    "    mask2 = lMask.eq(4).Or(lMask.eq(5)).Or(lMask.eq(255)).rename('landmask')\n",
    "    return image.addBands([mask, mask2])\n",
    "\n",
    "def pctCloudLand(image):\n",
    "    # Get image footprint\n",
    "    geom = image.geometry()\n",
    "    # Intersect with tilesamp\n",
    "    fint = targetTile.geometry().intersection(geom)\n",
    "    # Calculate percent of intersection that is cloudy\n",
    "    # Clouds\n",
    "    cSum = image.select('qa60mask').eq(0).reduceRegion(ee.Reducer.sum(),geometry=fint,scale=SCALE).getNumber('qa60mask')\n",
    "    # No clouds\n",
    "    ncSum = image.select('qa60mask').eq(1).reduceRegion(ee.Reducer.sum(),geometry=fint,scale=SCALE).getNumber('qa60mask')\n",
    "    # Cloud + no cloud area\n",
    "    cncTotal = cSum.add(ncSum)\n",
    "    # Calc percent\n",
    "    cPct = (cSum.divide(cncTotal)).multiply(100)\n",
    "    # Calculate percent of intersection that is land\n",
    "    # Land\n",
    "    lSum = image.select('landmask').eq(1).reduceRegion(ee.Reducer.sum(),geometry=fint,scale=SCALE).getNumber('landmask')\n",
    "    # No land \n",
    "    nlSum = image.select('landmask').eq(0).reduceRegion(ee.Reducer.sum(),geometry=fint,scale=SCALE).getNumber('landmask')\n",
    "    # Land + no land area\n",
    "    lnlTotal = lSum.add(nlSum)\n",
    "    # Calc percent\n",
    "    lPct = (lSum.divide(lnlTotal)).multiply(100)\n",
    "    # Get percent of tile  covered by valid image footprint\n",
    "    #tPct = (fint.area().divide(targetTile.geometry().area())).multiply(100)\n",
    "    # Add propery to image\n",
    "    #return image.set({'cPct':cPct, 'tPct':tPct})\n",
    "    return image.set({'cPct':cPct, 'lPct':lPct})\n",
    "\n",
    "# From get_parameters script\n",
    "# Construct collection, filtering on date, cloud cover\n",
    "def get_s2_cld_col(aoi, dFilter):\n",
    "    # Import and filter S2 SR.\n",
    "    s2_sr_col = (ee.ImageCollection('COPERNICUS/S2_SR')\\\n",
    "        .filterBounds(aoi)\\\n",
    "        .filter(dFilter)\\\n",
    "        .filter(ee.Filter.lte('CLOUDY_PIXEL_PERCENTAGE', CLOUD_FILTER)))\n",
    "    # Add an additional filter that considers cloud cover within the intersection of the valid image footprint\n",
    "    # and the tile.Only select SCL band.\n",
    "    s2_sr_col = s2_sr_col.map(getqa60LandMask).map(pctCloudLand)\\\n",
    "        .filter(ee.Filter.lte('cPct', CLOUD_FILTER))\\\n",
    "        .filter(ee.Filter.gt('lPct', 0.1)).select(['SCL'])\n",
    "        #.filter(ee.Filter.gte('tPct', 10)).select(['SCL'])\n",
    "    \n",
    "    # Import and filter S2 TOA\n",
    "    s2_col = (ee.ImageCollection('COPERNICUS/S2')\\\n",
    "        .filterBounds(aoi)\\\n",
    "        .filter(dFilter))\n",
    "\n",
    "    # Import and filter s2cloudless.\n",
    "    s2_cloudless_col = (ee.ImageCollection('COPERNICUS/S2_CLOUD_PROBABILITY')\n",
    "        .filterBounds(aoi)\n",
    "        .filter(dFilter))\n",
    "    \n",
    "    # Add SCL to TOA as property\n",
    "    col = ee.ImageCollection(ee.Join.saveFirst('scl').apply(**{\n",
    "        'primary': s2_col,\n",
    "        'secondary': s2_sr_col,\n",
    "        'condition': ee.Filter.equals(**{\n",
    "            'leftField': 'system:index',\n",
    "            'rightField': 'system:index'\n",
    "            })\n",
    "        })) \n",
    "\n",
    "    # Join the filtered s2cloudless collection to the SR collection by the 'system:index' property.\n",
    "    return ee.ImageCollection(ee.Join.saveFirst('s2cloudless').apply(**{\n",
    "        'primary': col,\n",
    "        'secondary': s2_cloudless_col,\n",
    "        'condition': ee.Filter.equals(**{\n",
    "            'leftField': 'system:index',\n",
    "            'rightField': 'system:index'\n",
    "        })\n",
    "    }))\n",
    "\n",
    "# Calculate parameters for bias correction\n",
    "def get_parameters(img):\n",
    "    #Get other images from the same datastrip and latitude\n",
    "    dstrip = img.get('DATASTRIP_ID')\n",
    "    s2col = ee.ImageCollection('COPERNICUS/S2').filter(ee.Filter.eq('DATASTRIP_ID',dstrip))\n",
    "    s2col = s2col.map(uly)\n",
    "    img= uly(img)\n",
    "    s2col = s2col.filter(ee.Filter.eq('uly',img.get('uly')))\n",
    "    sza = s2col.aggregate_mean('MEAN_SOLAR_ZENITH_ANGLE')\n",
    "\n",
    "    # Get bounds for sampling\n",
    "    geom = s2col.geometry()\n",
    "    bnds = ee.Geometry.Polygon(geom.bounds().coordinates())\n",
    "    img_ids = s2col.toList(s2col.size())\n",
    "\n",
    "    #Create distance map with 0 at central meridian\n",
    "    crs = ee.Image(img_ids.get(0)).select('B2').projection().crs()\n",
    "    prj = ee.Projection(crs)\n",
    "    x = ee.Image.pixelCoordinates(prj).select('x').divide(img.constant(1000))\n",
    "    mx = x.reduceRegion(reducer=ee.Reducer.max(),geometry=s2col.geometry(),\n",
    "                        scale=120,maxPixels=1e13).getNumber('x')\n",
    "    mn = x.reduceRegion(reducer=ee.Reducer.min(),geometry=s2col.geometry(),\n",
    "                        scale=120,maxPixels=1e13).getNumber('x')\n",
    "    offset = ee.Number.divide(mx.add(mn),2)\n",
    "    \n",
    "    #add offset\n",
    "    dist = x.subtract(ee.Image.constant(offset))\n",
    "    scl = ee.Image(img.get('scl'))\n",
    "\n",
    "    # Get S2SR with same data strip ID and latitude coordinate as TOA\n",
    "    s2srcol = ee.ImageCollection('COPERNICUS/S2_SR').filter(ee.Filter.eq('DATASTRIP_ID',\n",
    "                                                                         scl.get('DATASTRIP_ID')))\n",
    "    s2srcol = s2srcol.map(uly)\n",
    "    scl = uly(scl)\n",
    "    s2srcol = s2srcol.filter(ee.Filter.eq('uly',scl.get('uly')))\n",
    "\n",
    "    # Add mask from SCL band and QA60 band\n",
    "    diff = s2col.map(subtract_modis)\n",
    "    diff = diff.combine(s2srcol.select(['SCL','QA60']))\n",
    "    diff = diff.map(add_mask)\n",
    "    diff = diff.select(['blue','green','red','re1','re2','re3','nir','nir2','swir1','swir2'])\n",
    "\n",
    "    # Mosaic all tiles in swath and get initial estimate of scene bias\n",
    "    mos = diff.mosaic()\n",
    "    md = mos.reduceRegion(ee.Reducer.median(),geometry=bnds,scale=SCALE,bestEffort=True,tileScale=4)\n",
    "    bias = ee.List([md.get('blue'),md.get('green'),md.get('red'),md.get('re1'),md.get('re2'),\n",
    "                    md.get('re3'),md.get('nir'),md.get('nir2'),md.get('swir1'),md.get('swir2')])\n",
    "    mos = mos.subtract(ee.Image.constant(bias))\n",
    "\n",
    "    # 2nd mosaic to get final bias and across track slopes\n",
    "    mos = mos.select(['blue','green','red','re1','re2','re3','nir','nir2','swir1','swir2']).rename('Mblue','Mgreen','Mred','Mre1','Mre2','Mre3','Mnir','Mnir2','Mswir1','Mswir2')\n",
    "    s2mos = diff.mosaic()\n",
    "    mos = mos.addBands([s2mos,dist,ee.Image.constant(1)])\n",
    "    \n",
    "    # Dicts to store median bias across track slopes\n",
    "    slps = ee.Dictionary()\n",
    "    b = ee.Dictionary()\n",
    "    \n",
    "    ###### Sample each band separately and get median bias and slope ######\n",
    "    for band in bands:\n",
    "        samp = mos.select(band,'M'+band,'x','constant').sample(region=bnds,scale=SCALE,factor=1.0,\n",
    "                                                               dropNulls=True,tileScale=8)\n",
    "        samp = samp.filter(ee.Filter.gte('M'+band,-500)).filter(ee.Filter.lte('M'+band,500))\n",
    "        ols=samp.reduceColumns(ee.Reducer.linearRegression(numX=2,numY=1),selectors=['x','constant',band])\n",
    "        slps = slps.set(band,ee.List(ols.getArray('coefficients').toList().get(0)).get(0))\n",
    "        md = samp.reduceColumns(ee.Reducer.median(),selectors=[band])\n",
    "        b = b.set(band, md.get('median'))\n",
    "    m = ee.List([slps.get('blue'),slps.get('green'),slps.get('red'),slps.get('re1'),slps.get('re2'),\n",
    "                 slps.get('re3'),slps.get('nir'),slps.get('nir2'),slps.get('swir1'),slps.get('swir2')])\n",
    "    bias = ee.List([b.get('blue'),b.get('green'),b.get('red'),b.get('re1'),b.get('re2'),b.get('re3'),\n",
    "                    b.get('nir'),b.get('nir2'),b.get('swir1'),b.get('swir2')])\n",
    "    \n",
    "    # Return all parameters as a feature\n",
    "    dic = ee.Dictionary({'slopes': ee.String.encodeJSON(m),'biases':ee.String.encodeJSON(bias),'ID':img.get('ID'),\n",
    "                         's2id':dstrip,'s2srid':scl.get('DATASTRIP_ID'),'ULY':img.get('uly'),'crs':crs,\n",
    "                         'offset':ee.String.encodeJSON(offset),'sza':ee.String.encodeJSON(sza)})\n",
    "    return(ee.Feature(img.geometry().centroid(),dic))\n",
    "\n",
    "# Subtract MODIS normalization target\n",
    "def subtract_modis(img):\n",
    "    diff = img.select(['B2','B3','B4','B5','B6','B7','B8','B8A','B11','B12']).rename('blue','green','red','re1','re2','re3','nir','nir2','swir1','swir2').subtract(modis)\n",
    "    return(diff)\n",
    "\n",
    "# Simple mask from SCL band and QA60 band\n",
    "def add_mask(img):\n",
    "    scl = img.select('SCL')\n",
    "    # Select vegetation, bare soil, or 255 (not sure what that is)\n",
    "    msk = scl.eq(4).Or(scl.eq(5)).Or(scl.eq(255))\n",
    "    # Select non-cloudy pixels\n",
    "    qa = img.select('QA60')\n",
    "    cloudBitMask = 1 << 10\n",
    "    cirrusBitMask = 1 << 11\n",
    "    # Find pixels where both cirrus and cloud are zero (not cloudy) in QA60\n",
    "    # Set these pixels to 1\n",
    "    # Set all other values to 0\n",
    "    msk2 = qa.bitwiseAnd(cloudBitMask).eq(0).And(qa.bitwiseAnd(cirrusBitMask).eq(0)).rename('qa60mask')\n",
    "    # Set pixels to 1 where there is bare soil/vegetation and no clouds\n",
    "    return(img.updateMask(msk).updateMask(msk2))\n",
    "\n",
    "# Function to get UL latitude coordinate \n",
    "def uly(img):\n",
    "    listCoords = ee.Array.cat(img.geometry().coordinates(), 1)\n",
    "    yCoords = listCoords.slice(1, 1, 2)\n",
    "    yMax = yCoords.reduce('max', [0]).get([0,0])\n",
    "    yMax = ee.Number(yMax).multiply(100).round()\n",
    "    return(img.set({'uly':yMax}))\n",
    "\n",
    "# Join datastrip ID and uly lat for unique swatch ID\n",
    "def swath_id(img):\n",
    "    spc = ee.String('_')\n",
    "    uly = ee.Number(img.get('uly')).format(\"%d\")\n",
    "    ds_id = ee.String(img.get('DATASTRIP_ID'))\n",
    "    img=img.set({'ID':ds_id.cat(spc.cat(uly))})\n",
    "    return(img)\n",
    "\n",
    "# From apply parameters\n",
    "\n",
    "# Add cloud info\n",
    "def add_cloud_bands(img):\n",
    "    # Get s2cloudless image, subset the probability band.\n",
    "    cld_prb = img.select('probability')\n",
    "\n",
    "    # Condition s2cloudless by the probability threshold value.\n",
    "    is_cloud = cld_prb.gt(CLD_PRB_THRESH).rename('clouds')\n",
    "\n",
    "    # Add the cloud probability layer and cloud mask as image bands.\n",
    "    return img.addBands(ee.Image(is_cloud))\n",
    "\n",
    "# Add cloud shadows\n",
    "def add_shadow_bands(img):\n",
    "    # Identify water pixels from the SCL band.\n",
    "    not_water = img.select('SCL').neq(6)\n",
    "\n",
    "    # Identify dark NIR pixels that are not water (potential cloud shadow pixels).    \n",
    "    dark_pixels = img.select('nir').lt(NIR_DRK_THRESH).multiply(not_water).rename('dark_pixels')\n",
    "\n",
    "    ## Determine the direction to project cloud shadow from clouds.\n",
    "    #shadow_azimuth = ee.Number(90).subtract(ee.Number(img.get('MEAN_SOLAR_AZIMUTH_ANGLE')));\n",
    "    \n",
    "    # Determine the direction to project cloud shadow from clouds (assumes UTM projection).\n",
    "    shadow_azimuth = ee.Number(90).subtract(ee.Number(img.get('MEAN_SOLAR_AZIMUTH_ANGLE')));\n",
    "    \n",
    "    # Project shadows from clouds for the distance specified by the CLD_PRJ_DIST input.\n",
    "    cld_proj = (img.select('clouds').directionalDistanceTransform(shadow_azimuth, CLD_PRJ_DIST*10)\n",
    "                .reproject(**{'crs': img.select(0).projection(), 'scale': 100})\n",
    "                .select('distance').mask().rename('cloud_transform'))\n",
    "\n",
    "    # Identify the intersection of dark pixels with cloud shadow projection.\n",
    "    shadows = cld_proj.multiply(dark_pixels).rename('shadows')\n",
    "\n",
    "    # Add dark pixels, cloud projection, and identified shadows as image bands.\n",
    "    return img.addBands(ee.Image(shadows))\n",
    "\n",
    "# Create cloud shadow mask\n",
    "def add_cld_shdw_mask(img):\n",
    "    # Add cloud component bands.\n",
    "    img_cloud = add_cloud_bands(img)\n",
    "\n",
    "    # Add cloud shadow component bands.\n",
    "    img_cloud_shadow = add_shadow_bands(img_cloud)\n",
    "\n",
    "    # Combine cloud and shadow mask, set cloud and shadow as value 1, else 0.\n",
    "    is_cld_shdw = img_cloud_shadow.select('clouds').add(img_cloud_shadow.select('shadows')).gt(0)\n",
    "\n",
    "    # Remove small cloud-shadow patches and dilate remaining pixels by BUFFER input.\n",
    "    # 20 m scale is for speed, and assumes clouds don't require 10 m precision.\n",
    "    is_cld_shdw = (is_cld_shdw.focalMin(2).focalMax(BUFFER*2/20)\n",
    "        .reproject(**{'crs': img.select([0]).projection(), 'scale': 20})\n",
    "        .rename('cloudmask'))\n",
    "    \n",
    "    # Remove small cloud-shadow patches and dilate remaining pixels.\n",
    "    #is_cld_shdw = (is_cld_shdw.focal_min(2).focal_max(BUFFER)).rename('cloudmask')\n",
    "\n",
    "    # Add the final cloud-shadow mask to the image.\n",
    "    return img_cloud_shadow.addBands(is_cld_shdw)\n",
    "\n",
    "# Add qaqc values\n",
    "def add_qa(img):\n",
    "    img_cld_shdw = add_cld_shdw_mask(img)\n",
    "    scl = img.select('SCL')\n",
    "    qa = scl.eq(1).Or(scl.eq(3)).Or(scl.eq(8)).Or(scl.eq(9)).Or(scl.eq(10))\n",
    "    qa_mask = qa.add(img_cld_shdw.select('cloudmask')).gt(0).rename('qa_mask')\n",
    "    # Find pixels where both cirrus and cloud are zero (not cloudy) in QA60\n",
    "    # Set these pixels to 1\n",
    "    # Set all other values to 0\n",
    "    cloudBitMask = 1 << 10\n",
    "    cirrusBitMask = 1 << 11\n",
    "    qa60 = img.select('QA60')\n",
    "    qa60mask = qa.bitwiseAnd(cloudBitMask).eq(0).And(qa.bitwiseAnd(cirrusBitMask).eq(0)).rename('qa60mask')\n",
    "    return img_cld_shdw.addBands([qa_mask,qa60mask])\n",
    "\n",
    "# Apply qaqc values\n",
    "def apply_qa(img):\n",
    "    # Subset the cloudmask band and invert it so clouds/shadow are 0, else 1.\n",
    "    not_cld_shdw = img.select('qa_mask').Not()\n",
    "    # Clouds and cirrus from qa60 band are 0, else 1\n",
    "    not_cld_cirrus = img.select('qa60mask')\n",
    "    # Subset reflectance bands and update their masks, return the result.\n",
    "    return img.select(['blue','green','red','re1','re2','re3','nir','nir2','swir1','swir2'])\\\n",
    "        .updateMask(not_cld_shdw).updateMask(not_cld_cirrus).addBands(not_cld_shdw)\n",
    "\n",
    "# Apply parameters to reflectance\n",
    "def apply_parameters(img):\n",
    "    scl = ee.Image(img.get('scl'))\n",
    "    clds = ee.Image(img.get('s2cloudless'))\n",
    "    prms = ee.Feature(img.get('params'))\n",
    "    az = ee.Number(img.get('MEAN_SOLAR_AZIMUTH_ANGLE'))\n",
    "    ze = ee.Number(img.get('MEAN_SOLAR_ZENITH_ANGLE'))\n",
    "    t_start = img.get('system:time_start')\n",
    "    m = ee.List(ee.String.decodeJSON(prms.get('slopes')))\n",
    "    b = ee.List(ee.String.decodeJSON(prms.get('biases')))\n",
    "    crs = prms.get('crs')\n",
    "    offset = ee.Number(ee.String.decodeJSON(prms.get('offset')))\n",
    "    prj = ee.Projection(crs)\n",
    "    x = ee.Image.pixelCoordinates(prj).select('x').divide(img.constant(1000))\n",
    "    dist = x.subtract(ee.Image.constant(offset))\n",
    "    img = img.select(['B2','B3','B4','B5','B6','B7','B8','B8A','B11','B12']).rename('blue','green','red','re1','re2','re3','nir','nir2','swir1','swir2')\n",
    "    img = img.subtract(ee.Image.constant(b))\n",
    "    at_bias = dist.multiply(ee.Image.constant(m))\n",
    "    bias_adj = img.subtract(at_bias)\n",
    "    bias_adj = bias_adj.set({'scl':scl, 'system:time_start':t_start, 'MEAN_SOLAR_AZIMUTH_ANGLE':az, 'MEAN_SOLAR_ZENITH_ANGLE':ze})\n",
    "    return(bias_adj.addBands([scl,clds]))\n",
    "\n",
    "# Calculate illumination\n",
    "def illuminationCondition(img):\n",
    "    # Extract image metadata about solar position\n",
    "    SZ_rad = ee.Image.constant(ee.Number(img.get('MEAN_SOLAR_ZENITH_ANGLE'))).multiply(3.14159265359).divide(180).clip(img.geometry().buffer(10000))\n",
    "    SA_rad = ee.Image.constant(ee.Number(img.get('MEAN_SOLAR_AZIMUTH_ANGLE')).multiply(3.14159265359).divide(180)).clip(img.geometry().buffer(10000))\n",
    "    # Creat terrain layers\n",
    "    slp = ee.Terrain.slope(dem).clip(img.geometry().buffer(10000))\n",
    "    slp_rad = ee.Terrain.slope(dem).multiply(3.14159265359).divide(180).clip(img.geometry().buffer(10000))\n",
    "    asp_rad = ee.Terrain.aspect(dem).multiply(3.14159265359).divide(180).clip(img.geometry().buffer(10000))\n",
    "\n",
    "    # Calculate the Illumination Condition (IC)\n",
    "    # slope part of the illumination condition\n",
    "    cosZ = SZ_rad.cos()\n",
    "    cosS = slp_rad.cos()\n",
    "    slope_illumination = cosS.expression(\"cosZ * cosS\", \n",
    "                                          {'cosZ': cosZ,\n",
    "                                           'cosS': cosS.select('slope')})\n",
    "    # aspect part of the illumination condition\n",
    "    sinZ = SZ_rad.sin()\n",
    "    sinS = slp_rad.sin()\n",
    "    cosAziDiff = (SA_rad.subtract(asp_rad)).cos()\n",
    "    aspect_illumination = sinZ.expression(\"sinZ * sinS * cosAziDiff\", \n",
    "                                           {'sinZ': sinZ,\n",
    "                                            'sinS': sinS,\n",
    "                                            'cosAziDiff': cosAziDiff})\n",
    "    # full illumination condition (IC)\n",
    "    ic = slope_illumination.add(aspect_illumination)\n",
    "    #// Add IC to original image\n",
    "    img_plus_ic = ee.Image(img.addBands(ic.rename('IC')).addBands(cosZ.rename('cosZ')).addBands(cosS.rename('cosS')).addBands(slp.rename('slope')));\n",
    "    return img_plus_ic\n",
    "\n",
    "#////////////////////////////////////////////////////////////////////////////////\n",
    "#// Function to apply the Sun-Canopy-Sensor + C (SCSc) correction method to each \n",
    "#// image. Function by Patrick Burns (pb463@nau.edu) and Matt Macander \n",
    "#// (mmacander@abrinc.com)\n",
    "def illuminationCorrection(img):\n",
    "    props = img.toDictionary()\n",
    "    st = img.get('system:time_start')\n",
    "    \n",
    "    img_plus_ic = img\n",
    "    mask1 = img_plus_ic.select('nir').gt(-0.1)\n",
    "    mask2 = (img_plus_ic.select('slope').gte(5).And(img_plus_ic.select('IC').gte(0)).And(img_plus_ic.select('nir').gt(-0.1)))\n",
    "    img_plus_ic_mask2 = ee.Image(img_plus_ic.updateMask(mask2))\n",
    "    \n",
    "    #// Specify Bands to topographically correct  \n",
    "    bandList = ['blue','green','red','re1','re2','re3','nir','nir2','swir1','swir2']\n",
    "    compositeBands = img.bandNames()\n",
    "    nonCorrectBands = img.select(compositeBands.removeAll(bandList))\n",
    "    \n",
    "    #geom = ee.Geometry(img.get('system:footprint')).bounds().buffer(10000)\n",
    "    \n",
    "    def apply_SCSccorr(band):\n",
    "        #method = 'SCSc'\n",
    "        out =  (ee.Image(1).addBands(img_plus_ic_mask2.select('IC', band)).reduceRegion(reducer= ee.Reducer.linearRegression(2,1), geometry=ee.Geometry(img.geometry()), scale=scale, bestEffort=True, maxPixels=1e10))\n",
    "        fit = out.combine({\"coefficients\": ee.Array([[1],[1]])}, False)\n",
    "        #//Get the coefficients as a nested list, \n",
    "        #//Cast it to an array, and get just the selected column\n",
    "        out_a = (ee.Array(fit.get('coefficients')).get([0,0]))\n",
    "        out_b = (ee.Array(fit.get('coefficients')).get([1,0]))\n",
    "        out_c = out_a.divide(out_b)\n",
    "        \n",
    "        #// Apply the SCSc correction\n",
    "        SCSc_output = img_plus_ic_mask2.expression(\n",
    "        \"((image * (cosB * cosZ + cvalue)) / (ic + cvalue))\", {\n",
    "        'image': img_plus_ic_mask2.select(band),\n",
    "        'ic': img_plus_ic_mask2.select('IC'),\n",
    "        'cosB': img_plus_ic_mask2.select('cosS'),\n",
    "        'cosZ': img_plus_ic_mask2.select('cosZ'),\n",
    "        'cvalue': out_c\n",
    "        })\n",
    "      \n",
    "        return SCSc_output\n",
    "\n",
    "    #img_SCSccorr = ee.Image(bandList.map(apply_SCSccorr)).addBands(img_plus_ic.select('IC'))\n",
    "    img_SCSccorr = ee.Image(list(map(apply_SCSccorr,bandList))).addBands(img_plus_ic.select('IC'))\n",
    "    bandList_IC = ee.List([bandList, 'IC']).flatten()\n",
    "    img_SCSccorr = img_SCSccorr.unmask(img_plus_ic.select(bandList_IC)).select(bandList)\n",
    "    return img_SCSccorr.addBands(nonCorrectBands).setMulti(props).set('system:time_start',st)\n",
    "\n",
    "# Apply topo correction\n",
    "def topoCorrection(collection):\n",
    "    collection2 = collection.map(illuminationCondition)\n",
    "    collection3 = collection2.map(illuminationCorrection)\n",
    "    return collection3\n",
    "\n",
    "#------------------------------------------------------------\n",
    "# Functions From Camilo's scripts\n",
    "# Function to rename bands\n",
    "def band_rename(img):\n",
    "    return img.select(\n",
    "    ['blue', 'green', 'red', 're1', 're2', 're3', 'nir', 'nir2', 'swir1', 'swir2', 'qa_mask'],\n",
    "    ['BLUE','GREEN','RED','RED_EDGE_1','RED_EDGE_2','RED_EDGE_3','NIR','RED_EDGE_4','SWIR_1','SWIR_2','QA_MASK'])\n",
    "\n",
    "# Functions to calculate and add indices\n",
    "# function to calculate NDVI\n",
    "def ndvi_calc(img):\n",
    "    return img.normalizedDifference(['NIR', 'RED']).select([0],['NDVI'])\n",
    "\n",
    "# Function to calculate EVI\n",
    "def evi_calc(img):\n",
    "    num = ee.Image((img.select(['NIR']).subtract(img.select(['RED']))).multiply(ee.Image(2.5)))\n",
    "    den = ee.Image(img.select(['NIR']).add(img.select(['RED']).multiply(6.0)).subtract(img.select(['BLUE']).multiply(7.5)).add(1.0))\n",
    "    return (num.divide(den)).select([0],['EVI'])\n",
    "\n",
    "\n",
    "# Function to Soil Adjusted Vegetation Index (SAVI)\n",
    "def savi_calc(img):\n",
    "    num = ee.Image((img.select(['NIR']).subtract(img.select(['RED']))))\n",
    "    den = ee.Image((img.select(['NIR']).add(img.select(['RED']).add(0.5))).multiply(1.5))\n",
    "    return (num.divide(den)).select([0],['SAVI'])\n",
    "\n",
    "# Function to spectral variability vegetation index (SVVI)\n",
    "def svvi_calc(img):\n",
    "    term1 = ee.Image(img.select(['BLUE','GREEN','RED','NIR','SWIR_1','SWIR_2'])).reduce(ee.Reducer.stdDev());\n",
    "    term2 = ee.Image(img.select(['NIR','SWIR_1','SWIR_2'])).reduce(ee.Reducer.stdDev());\n",
    "    return (term1.subtract(term2)).select([0],['SVVI'])\n",
    "\n",
    "# Red-edge Normalized Difference Vegetation Index - RNDVI\n",
    "def rndvi_calc(img):\n",
    "    return img.normalizedDifference(['NIR', 'RED_EDGE_2']).select([0],['RNDVI'])\n",
    "\n",
    "# Function to add indices to an image\n",
    "# NDVI, EVI, SAVI, SVVI, RNDVI\n",
    "def addIndices(in_image):\n",
    "    temp_image = in_image.float().divide(10000.0)\n",
    "    return in_image.addBands(ee.Image(ndvi_calc(in_image)).multiply(10000.0).int16())\\\n",
    "        .addBands(ee.Image(evi_calc(temp_image)).multiply(10000.0).int16())\\\n",
    "        .addBands(ee.Image(savi_calc(temp_image)).multiply(10000.0).int16())\\\n",
    "        .addBands(ee.Image(svvi_calc(temp_image)).multiply(10000.0).int16())\\\n",
    "        .addBands(ee.Image(rndvi_calc(temp_image)).multiply(10000.0).int16())\n",
    "\n",
    "# Function texture\n",
    "def texture(img):\n",
    "    img_16bit = img.int16()\n",
    "    return img_16bit.glcmTexture(size=3)"
   ]
  },
  {
   "cell_type": "markdown",
   "id": "6d37d83b",
   "metadata": {},
   "source": [
    "### Map"
   ]
  },
  {
   "cell_type": "code",
   "execution_count": 6,
   "id": "ea1d1b71",
   "metadata": {},
   "outputs": [
    {
     "data": {
      "application/vnd.jupyter.widget-view+json": {
       "model_id": "b7c6bae6f61b4f5ea6af5f62a31e38ef",
       "version_major": 2,
       "version_minor": 0
      },
      "text/plain": [
       "Map(center=[4, -74], controls=(WidgetControl(options=['position', 'transparent_bg'], widget=HBox(children=(Tog…"
      ]
     },
     "metadata": {},
     "output_type": "display_data"
    }
   ],
   "source": [
    "Map = geemap.Map(center=(4, -74), zoom=6)\n",
    "Map"
   ]
  },
  {
   "cell_type": "code",
   "execution_count": 7,
   "id": "f30a3764",
   "metadata": {},
   "outputs": [],
   "source": [
    "# Path to store sentinel correction parameters\n",
    "# Append the image cloud threshold used to calculate params\n",
    "sparamPath = 'projects/ee-jantzenator/assets/sentinel_acorr/params'\n",
    "\n",
    "# Tile file path\n",
    "#tileFile = r\"G:\\My Drive\\Projects\\nasa_geo_colombia\\geodata\\camilo_assets\\GRID_COLOMBIA.shp\"\n",
    "tiles = ee.FeatureCollection('users/jf2238/GRID_COLOMBIA')\n",
    "\n",
    "# Map tiles\n",
    "Map.addLayer(tiles, {}, 'Tiles')\n",
    "\n",
    "# Modis composite used as target\n",
    "modis = ee.Image('users/sjantzterp/modis2senv3')\n",
    "\n",
    "SCALE = 120 #Scale in meters for sampling. Memory errors more likely under 120m"
   ]
  },
  {
   "cell_type": "markdown",
   "id": "e82c7d6c",
   "metadata": {},
   "source": [
    "# Part 1\n",
    "### Calculate Parameters"
   ]
  },
  {
   "cell_type": "code",
   "execution_count": 7,
   "id": "0f5a7313",
   "metadata": {},
   "outputs": [],
   "source": [
    "# Params\n",
    "# Sentinel bands\n",
    "bands = ['blue','green','red','re1','re2','re3','nir','nir2','swir1','swir2']\n",
    "\n",
    "# Params\n",
    "CLOUD_FILTER = 45 # Scene level cloud filtering. Take scenes with cloud percentages less than this\n",
    "\n",
    "\n",
    "# Start and end year/month\n",
    "#sYear=2017\n",
    "#eYear=2022\n",
    "#sMonth=1\n",
    "#eMonth=12\n",
    "\n",
    "# Date filter object\n",
    "dFilter = ee.Filter.date('2017-01-01','2022-12-31')\n",
    "#print(dFilter.getInfo())\n",
    "\n"
   ]
  },
  {
   "cell_type": "code",
   "execution_count": 8,
   "id": "9b454f67",
   "metadata": {},
   "outputs": [
    {
     "name": "stdout",
     "output_type": "stream",
     "text": [
      "Collection size:  94\n"
     ]
    }
   ],
   "source": [
    "# Loop through tiles and calculate parameters\n",
    "#for i in range(0,230):\n",
    "#for i in range(1,230):\n",
    "#for i in [64,159,174,209,210,215,220,221,222,227,228,229]:\n",
    "for i in [209]:\n",
    "    # Tile id\n",
    "    # Fid\n",
    "    Fid = i\n",
    "\n",
    "    # Map selected tile\n",
    "    targetTile = tiles.filter(ee.Filter.eq('FID_STRING', str(Fid)))\n",
    "    Map.addLayer(targetTile, {}, 'Target Tile')\n",
    "    \n",
    "    # Get collection\n",
    "    s2_col = get_s2_cld_col(targetTile, dFilter)\n",
    "    s2_col = s2_col.map(uly).map(swath_id)\n",
    "    # Remove duplicates in swaths\n",
    "    s2_col = ee.ImageCollection(s2_col.distinct('ID'))\n",
    "    print('Collection size: ', s2_col.size().getInfo())\n",
    "\n",
    "    # Get parameters and export to asset\n",
    "    fc = ee.FeatureCollection(s2_col.map(get_parameters))\n",
    "    task = ee.batch.Export.table.toAsset(collection=fc,description='params45_' + str(Fid),\n",
    "                                         assetId= sparamPath + '/params45_' + str(Fid))\n",
    "    task.start()"
   ]
  },
  {
   "cell_type": "code",
   "execution_count": 10,
   "id": "fd879126",
   "metadata": {},
   "outputs": [
    {
     "name": "stdout",
     "output_type": "stream",
     "text": [
      "{'state': 'RUNNING', 'description': 'params45_209', 'creation_timestamp_ms': 1655600444529, 'update_timestamp_ms': 1655600448137, 'start_timestamp_ms': 1655600448106, 'task_type': 'EXPORT_FEATURES', 'attempt': 1, 'id': 'V2MPZNX7JHVPS6TDIJLXDEMO', 'name': 'projects/earthengine-legacy/operations/V2MPZNX7JHVPS6TDIJLXDEMO'}\n"
     ]
    }
   ],
   "source": [
    "# last task status\n",
    "# Easier to check at https://code.earthengine.google.com/tasks\n",
    "print(task.status())"
   ]
  },
  {
   "cell_type": "markdown",
   "id": "9b725cf0",
   "metadata": {},
   "source": [
    "# -------------------------------------------------------------------------------------------\n",
    "# Part 2\n",
    "### Atmospheric and Topo Correction"
   ]
  },
  {
   "cell_type": "code",
   "execution_count": 8,
   "id": "e890ed00",
   "metadata": {},
   "outputs": [],
   "source": [
    "#/////////////////////////////// I) FIRST MOSAIC 2019 -2020/////////////////////////////\n",
    "# Apply corrections to imagery\n",
    "CLOUD_FILTER = 45\n",
    "CLD_PRB_THRESH = 20 # pixel level cloud probability threshold\n",
    "NIR_DRK_THRESH = 1500 #unscaled\n",
    "CLD_PRJ_DIST = 1 # Code multiplies this by 10 (so I guess that's 20 pixels?)\n",
    "BUFFER = 50 #in pixels (but may be meters?)"
   ]
  },
  {
   "cell_type": "code",
   "execution_count": 19,
   "id": "d7ec9138",
   "metadata": {},
   "outputs": [
    {
     "name": "stdout",
     "output_type": "stream",
     "text": [
      "133\n",
      "133\n",
      "133\n"
     ]
    }
   ],
   "source": [
    "# Loop throught and export mosaics\n",
    "# Max range is 230\n",
    "# Params 209 not found\n",
    "# So run 144,209, then 210,230\n",
    "# Up to 144 is essentially the bottom half of the country\n",
    "# and includes most of the Colombian Amazon\n",
    "#for j in range(144,209):\n",
    "#for j in [63, 211, 216, 217, 218, 223, 224, 225, 226, 229]:\n",
    "#for j in list([27]+ list(range(29,209))+list(range(210,230))):\n",
    "# mean: 0, 43, 87, 113, 211, 214\n",
    "# sd: 0, 89, 211\n",
    "# savg: 28, 41, 62, 126, 216, 219, 222, 223, 224, 225, 226, 227, 228, 229\n",
    "# dvar: None\n",
    "\n",
    "# Export flags\n",
    "e1 = False # mean\n",
    "e2 = False # sd\n",
    "e3 = False # savg\n",
    "e4 = True # dvar\n",
    "    \n",
    "#for j in list(list(range(0,209))+list(range(210,230))):\n",
    "#for j in [28, 41, 62, 126, 216, 219, 222, 223, 224, 225, 226, 227, 228, 229]:\n",
    "for j in [210]:\n",
    "    Fid = j\n",
    "\n",
    "    #Start and end year/month\n",
    "    #sYear=2019\n",
    "    #eYear=2020\n",
    "    #sMonth=1\n",
    "    #eMonth=12\n",
    "\n",
    "    # Mosaic number (either 1 or 2)\n",
    "    mNumber = 2\n",
    "\n",
    "    # Create date filter object and mosaic output name\n",
    "    if mNumber == 1:\n",
    "        # Date filter object for 1st Mosaic\n",
    "        dFilter = ee.Filter.date('2019-01-01','2020-12-31')\n",
    "        # Date string\n",
    "        dString = '2019_2020'\n",
    "    elif mNumber == 2:\n",
    "        # Date filter object for 2nd Mosaic\n",
    "        d1 = ee.Filter.date('2017-01-01','2018-12-31')\n",
    "        d2 = ee.Filter.date('2021-01-01','2022-12-31')\n",
    "        dFilter = ee.Filter.Or(d1, d2)\n",
    "        dString = '2017_18_2021_22'\n",
    "\n",
    "    targetTile = tiles.filter(ee.Filter.eq('FID_STRING', str(Fid)))\n",
    "    params_fc = ee.FeatureCollection('projects/ee-jantzenator/assets/sentinel_acorr/params/params45_'+str(Fid))\n",
    "    s2_col = get_s2_cld_col(targetTile, dFilter)\n",
    "    s2_col = s2_col.map(uly).map(swath_id)\n",
    "\n",
    "    col = ee.ImageCollection(ee.Join.saveFirst('params').apply(**{\n",
    "        'primary': s2_col,\n",
    "        'secondary': params_fc,\n",
    "        'condition': ee.Filter.equals(**{\n",
    "            'leftField': 'ID',\n",
    "            'rightField': 'ID'\n",
    "            })\n",
    "        }))\n",
    "\n",
    "    #------------------------------------------------------------\n",
    "    # Atmospheric correction\n",
    "    s2fin = col.map(apply_parameters).map(add_qa).map(apply_qa)\n",
    "    # Subset images for tile 226 (due to size issues). Use size of largest image collection\n",
    "    # that ran successfully\n",
    "    print(s2fin.size().getInfo())\n",
    "    if Fid == 226:\n",
    "        s2fin = ee.ImageCollection(s2fin.randomColumn('random',13).sort('random').limit(688))\n",
    "    print(s2fin.size().getInfo())\n",
    "    \n",
    "    #------------------------------------------------------------\n",
    "    # Illumination params\n",
    "    scale = 100\n",
    "    toaOrSR = 'SR'\n",
    "    #// get terrain layers\n",
    "    dem = ee.Image(\"USGS/SRTMGL1_003\")\n",
    "    degree2radian = 0.01745\n",
    "\n",
    "    # Topographic correction\n",
    "    s2tc = topoCorrection(s2fin)\n",
    "    print(s2tc.size().getInfo())\n",
    "\n",
    "    # Rename bands, add indices\n",
    "    s2tc = s2tc\\\n",
    "        .map(band_rename)\\\n",
    "        .map(addIndices)\n",
    "\n",
    "    # MEAN and SD\n",
    "    # Mean of spectral metrics\n",
    "    mosaic_mean = s2tc.select(['BLUE','GREEN','RED','RED_EDGE_1','RED_EDGE_2','RED_EDGE_3','NIR','RED_EDGE_4','SWIR_1','SWIR_2',\n",
    "                                  'NDVI', 'EVI', 'SAVI', 'SVVI','RNDVI']).mean().int16()\n",
    "    # SD of spectral metrics\n",
    "    mosaic_sd = s2tc.select(['BLUE','GREEN','RED','RED_EDGE_1','RED_EDGE_2','RED_EDGE_3','NIR','RED_EDGE_4','SWIR_1','SWIR_2',\n",
    "                                  'NDVI', 'EVI', 'SAVI', 'SVVI','RNDVI'])\\\n",
    "                                  .reduce(ee.Reducer.stdDev()).int16()\n",
    "\n",
    "    # TEXTURE\n",
    "    # Calculate texture metrics\n",
    "    s2tc_texture = s2tc.map(texture)\n",
    "    # Mean of structure metrics\n",
    "    TEXTURA_savg = s2tc_texture.select(['BLUE_savg','GREEN_savg','RED_savg','RED_EDGE_1_savg','RED_EDGE_2_savg',\n",
    "                                             'RED_EDGE_3_savg','NIR_savg','RED_EDGE_4_savg','SWIR_1_savg','SWIR_2_savg',\n",
    "                                             'NDVI_savg', 'EVI_savg', 'SAVI_savg', 'SVVI_savg','RNDVI_savg']).mean().int16();                       \n",
    "    TEXTURA_dvar = s2tc_texture.select(['BLUE_dvar','GREEN_dvar','RED_dvar','RED_EDGE_1_dvar','RED_EDGE_2_dvar',\n",
    "                                              'RED_EDGE_3_dvar','NIR_dvar','RED_EDGE_4_dvar','SWIR_1_dvar','SWIR_2_dvar',\n",
    "                                              'NDVI_dvar', 'EVI_dvar', 'SAVI_dvar', 'SVVI_dvar','RNDVI_dvar']).mean().int16()\n",
    " \n",
    "    # EXPORT 1\n",
    "    #SENT2_MEAN_COLOMBIA\n",
    "    #'Sent2_mean'.concat('_', c)\n",
    "    if e1:\n",
    "        task = ee.batch.Export.image.toAsset(image=mosaic_mean,description='med_' + str(Fid) + '_' + dString,\n",
    "                                              assetId='projects/ee-jantzenator/assets/sentinel_acorr/SENT2_MEAN_COLOMBIA/Sent2_mean_' + str(Fid) + '_' + dString,\n",
    "                                              scale = 25, region = targetTile.geometry(),\n",
    "                                              maxPixels=1e13)\n",
    "        task.start()\n",
    "    \n",
    "    # EXPORT 2\n",
    "    #SENT2_SD_COLOMBIA\n",
    "    #'Sent2_sd'.concat('_', c)\n",
    "    if e2:\n",
    "        task = ee.batch.Export.image.toAsset(image=mosaic_sd,description='sd_' + str(Fid) + '_' + dString,\n",
    "                                              assetId='projects/ee-jantzenator/assets/sentinel_acorr/SENT2_SD_COLOMBIA/Sent2_sd_' + str(Fid) + '_' + dString,\n",
    "                                              scale = 25, region = targetTile.geometry(),\n",
    "                                              maxPixels=1e13)\n",
    "        task.start()\n",
    "\n",
    "    # EXPORT 3\n",
    "    #SENT2_savg_COLOMBIA\n",
    "    #'Sent2_savg'.concat('_', c)\n",
    "    if e3:\n",
    "        task = ee.batch.Export.image.toAsset(image=TEXTURA_savg,description='savg_' + str(Fid) + '_' + dString,\n",
    "                                              assetId='projects/ee-jantzenator/assets/sentinel_acorr/SENT2_SAVG_COLOMBIA/Sent2_savg_' + str(Fid) + '_' + dString,\n",
    "                                              scale = 25, region = targetTile.geometry(),\n",
    "                                              maxPixels=1e13)\n",
    "        task.start()    \n",
    "\n",
    "    # EXPORT 4\n",
    "    #SENT2_dvar_COLOMBIA\n",
    "    #'Sent2_dvar'.concat('_', c)\n",
    "    if e4:\n",
    "        task = ee.batch.Export.image.toAsset(image=TEXTURA_dvar,description='dvar_' + str(Fid) + '_' + dString,\n",
    "                                              assetId='projects/ee-jantzenator/assets/sentinel_acorr/SENT2_DVAR_COLOMBIA/Sent2_dvar_' + str(Fid) + '_' + dString,\n",
    "                                              scale = 25, region = targetTile.geometry(),\n",
    "                                              maxPixels=1e13)\n",
    "        task.start()\n",
    "    \n",
    "    "
   ]
  },
  {
   "cell_type": "code",
   "execution_count": 17,
   "id": "4edd6b4e",
   "metadata": {},
   "outputs": [
    {
     "data": {
      "text/plain": [
       "{'state': 'RUNNING',\n",
       " 'description': 'med_210_2019_2020',\n",
       " 'creation_timestamp_ms': 1689785459898,\n",
       " 'update_timestamp_ms': 1689789569617,\n",
       " 'start_timestamp_ms': 1689785469864,\n",
       " 'task_type': 'EXPORT_IMAGE',\n",
       " 'attempt': 1,\n",
       " 'id': 'A4SWNNS5YVZIF3UISGKBCDFN',\n",
       " 'name': 'projects/earthengine-legacy/operations/A4SWNNS5YVZIF3UISGKBCDFN'}"
      ]
     },
     "execution_count": 17,
     "metadata": {},
     "output_type": "execute_result"
    }
   ],
   "source": [
    "# Check status\n",
    "task.status()"
   ]
  },
  {
   "cell_type": "code",
   "execution_count": 254,
   "id": "2b36ce2f",
   "metadata": {},
   "outputs": [],
   "source": [
    "# Add to map\n",
    "s2finMosaic = ee.Image('projects/ee-jantzenator/assets/sentinel_acorr/med6_' + str(Fid) + '_2019_2020')\n",
    "Map.addLayer(s2finMosaic, vizParams, 's2_' + str(Fid))"
   ]
  },
  {
   "cell_type": "markdown",
   "id": "ee6f16ac",
   "metadata": {},
   "source": [
    "# Extra"
   ]
  },
  {
   "cell_type": "code",
   "execution_count": 84,
   "id": "8820f414",
   "metadata": {},
   "outputs": [],
   "source": [
    "# Display parameters\n",
    "vizParams = {\n",
    "  'bands': ['red', 'green', 'blue'],\n",
    "  'min': 300,\n",
    "  'max': 800,\n",
    "  'gamma': 1\n",
    "}\n",
    "vizParams = {\n",
    "  'bands': ['swir1', 'nir', 'red'],\n",
    "  'min': 188,\n",
    "  'max': 4103,\n",
    "  'gamma': 1\n",
    "}\n"
   ]
  },
  {
   "cell_type": "code",
   "execution_count": 244,
   "id": "ac5bd20a",
   "metadata": {},
   "outputs": [],
   "source": [
    "# Map first image (no topo correction)\n",
    "Map.addLayer(s2fin.first(), vizParams, 's2')\n",
    "# Map median (no topo correction)\n",
    "Map.addLayer(s2fin.median().clip(targetTile.geometry()), vizParams, 's2med')"
   ]
  },
  {
   "cell_type": "code",
   "execution_count": 189,
   "id": "fc5148f0",
   "metadata": {},
   "outputs": [
    {
     "name": "stdout",
     "output_type": "stream",
     "text": [
      "{'nir': 11092030.8745098}\n"
     ]
    }
   ],
   "source": [
    "# Print number of masked pixels\n",
    "stats = s2fin.median().select('nir').mask().eq(0).reduceRegion(reducer=ee.Reducer.sum(),\n",
    "                                                 scale=25,geometry=targetTile.geometry(),\n",
    "                                                maxPixels=1e9\n",
    ")\n",
    "print(stats.getInfo())"
   ]
  },
  {
   "cell_type": "code",
   "execution_count": 77,
   "id": "5d0f2870",
   "metadata": {},
   "outputs": [
    {
     "name": "stdout",
     "output_type": "stream",
     "text": [
      "Number of bands:  11\n",
      "Band names:  ['blue', 'green', 'red', 're1', 're2', 're3', 'nir', 'nir2', 'swir1', 'swir2', 'qa_mask']\n",
      "Metadata properties:  ['system:time_start', 'MEAN_SOLAR_AZIMUTH_ANGLE', 'MEAN_SOLAR_ZENITH_ANGLE', 'scl', 'system:index', 'system:bands', 'system:band_names']\n",
      "Formatted date 2019-1-12\n"
     ]
    }
   ],
   "source": [
    "# Print image info\n",
    "bandNames = s2fin.first().bandNames()\n",
    "print('Number of bands: ', bandNames.size().getInfo())\n",
    "bandNames = s2fin.first().bandNames()\n",
    "print('Band names: ', bandNames.getInfo())\n",
    "properties = s2fin.first().propertyNames()\n",
    "print('Metadata properties: ', properties.getInfo())\n",
    "date = ee.Date(s2fin.first().get('system:time_start'))\n",
    "print(\"Formatted date\", date.format('Y-M-d').getInfo())"
   ]
  },
  {
   "cell_type": "code",
   "execution_count": 204,
   "id": "cd39fc5a",
   "metadata": {},
   "outputs": [
    {
     "name": "stdout",
     "output_type": "stream",
     "text": [
      "{'type': 'Image', 'bands': [], 'properties': {'month': 12, 'year': 2021, 'system:index': '11'}}\n"
     ]
    }
   ],
   "source": [
    "# Map monthly images if needed\n",
    "# Only works with non topo corrected images as the topo correction times out...\n",
    "months = ee.List.sequence(1, 12)\n",
    "#years = ee.List.sequence(2020,2021)\n",
    "years = ee.List([2020])\n",
    "\n",
    "def function1(y):\n",
    "    def function2(m):\n",
    "        return s2fin.filter(ee.Filter.calendarRange(y, y, 'year')).filter(ee.Filter.calendarRange(m, m, 'month')).median().set('month', m).set('year', y)\n",
    "    return months.map(function2)\n",
    "\n",
    "mmonth = ee.ImageCollection.fromImages(years.map(function1).flatten())\n",
    "\n",
    "listOfImages = mmonth.toList(mmonth.size())\n",
    "img1 = ee.Image(listOfImages.get(11))\n",
    "print(img1.getInfo())\n",
    "Map.addLayer(img1, vizParams, 'm1')\n",
    "\n",
    "#listOfImages = ee.Image(mmonth.toList(mmonth.size()))\n",
    "#timage = ee.Image(listOfImages.get(2))\n",
    "#print(timage.getInfo())\n",
    "\n",
    "#Map.addLayer(timage, vizParams, 'm1')"
   ]
  },
  {
   "cell_type": "code",
   "execution_count": 252,
   "id": "0db044bc",
   "metadata": {},
   "outputs": [
    {
     "name": "stdout",
     "output_type": "stream",
     "text": [
      "{'type': 'Image', 'bands': [{'id': 'blue', 'data_type': {'type': 'PixelType', 'precision': 'int', 'min': 0, 'max': 65535}, 'dimensions': [10806, 9784], 'crs': 'EPSG:4326', 'crs_transform': [0.004491576420597608, 0, -89.35991288778939, 0, -0.004491576420597608, 16.811970542296844]}, {'id': 'green', 'data_type': {'type': 'PixelType', 'precision': 'int', 'min': 0, 'max': 65535}, 'dimensions': [10806, 9784], 'crs': 'EPSG:4326', 'crs_transform': [0.004491576420597608, 0, -89.35991288778939, 0, -0.004491576420597608, 16.811970542296844]}, {'id': 'red', 'data_type': {'type': 'PixelType', 'precision': 'int', 'min': 0, 'max': 65535}, 'dimensions': [10806, 9784], 'crs': 'EPSG:4326', 'crs_transform': [0.004491576420597608, 0, -89.35991288778939, 0, -0.004491576420597608, 16.811970542296844]}, {'id': 're1', 'data_type': {'type': 'PixelType', 'precision': 'int', 'min': 0, 'max': 65535}, 'dimensions': [10806, 9784], 'crs': 'EPSG:4326', 'crs_transform': [0.004491576420597608, 0, -89.35991288778939, 0, -0.004491576420597608, 16.811970542296844]}, {'id': 're2', 'data_type': {'type': 'PixelType', 'precision': 'int', 'min': 0, 'max': 65535}, 'dimensions': [10806, 9784], 'crs': 'EPSG:4326', 'crs_transform': [0.004491576420597608, 0, -89.35991288778939, 0, -0.004491576420597608, 16.811970542296844]}, {'id': 're3', 'data_type': {'type': 'PixelType', 'precision': 'int', 'min': 0, 'max': 65535}, 'dimensions': [10806, 9784], 'crs': 'EPSG:4326', 'crs_transform': [0.004491576420597608, 0, -89.35991288778939, 0, -0.004491576420597608, 16.811970542296844]}, {'id': 'nir', 'data_type': {'type': 'PixelType', 'precision': 'int', 'min': 0, 'max': 65535}, 'dimensions': [10806, 9784], 'crs': 'EPSG:4326', 'crs_transform': [0.004491576420597608, 0, -89.35991288778939, 0, -0.004491576420597608, 16.811970542296844]}, {'id': 'nir_1', 'data_type': {'type': 'PixelType', 'precision': 'int', 'min': 0, 'max': 65535}, 'dimensions': [10806, 9784], 'crs': 'EPSG:4326', 'crs_transform': [0.004491576420597608, 0, -89.35991288778939, 0, -0.004491576420597608, 16.811970542296844]}, {'id': 'swir1', 'data_type': {'type': 'PixelType', 'precision': 'int', 'min': 0, 'max': 65535}, 'dimensions': [10806, 9784], 'crs': 'EPSG:4326', 'crs_transform': [0.004491576420597608, 0, -89.35991288778939, 0, -0.004491576420597608, 16.811970542296844]}, {'id': 'swir2', 'data_type': {'type': 'PixelType', 'precision': 'int', 'min': 0, 'max': 65535}, 'dimensions': [10806, 9784], 'crs': 'EPSG:4326', 'crs_transform': [0.004491576420597608, 0, -89.35991288778939, 0, -0.004491576420597608, 16.811970542296844]}], 'version': 1634831212162117, 'id': 'users/sjantzterp/modis2senv3', 'properties': {'system:footprint': {'type': 'LinearRing', 'coordinates': [[-45.37601043938889, 16.814224164556173], [-51.442445826933074, 16.81422417465349], [-56.75057678146706, 16.814224191650176], [-65.85022991601035, 16.8142242162925], [-75.70818747369293, 16.814224202467972], [-81.77462285566666, 16.814224191210315], [-89.36236732310783, 16.814215491156816], [-89.36272290337055, -27.13585317396916], [-80.25801402043354, -27.135866857119023], [-74.19157857577788, -27.13586682242178], [-68.12514315129877, -27.135866822642242], [-59.02549007983285, -27.13586679211705], [-52.200750277137246, -27.135866846476397], [-46.892619241891985, -27.135866833566403], [-40.821128069063235, -27.13585317072266], [-40.82148364709059, 16.814215551647298], [-45.37601043938889, 16.814224164556173]]}, 'system:asset_size': 1190181973}}\n"
     ]
    }
   ],
   "source": [
    "# Modis composite used as target\n",
    "print(modis.getInfo())\n",
    "vizParams = {\n",
    "  'bands': ['swir1', 'nir', 'red'],\n",
    "  'min': 188,\n",
    "  'max': 4103,\n",
    "  'gamma': 1\n",
    "}\n",
    "Map.addLayer(modis, vizParams, 'modis')"
   ]
  },
  {
   "cell_type": "code",
   "execution_count": 28,
   "id": "3318bf8c",
   "metadata": {},
   "outputs": [
    {
     "name": "stdout",
     "output_type": "stream",
     "text": [
      "Collection size:  115\n"
     ]
    }
   ],
   "source": [
    "# Tile id\n",
    "# 0-230\n",
    "# Fid\n",
    "Fid = 64\n",
    "#Fid = 16\n",
    "\n",
    "\n",
    "# Map selected tile\n",
    "targetTile = tiles.filter(ee.Filter.eq('FID_STRING', str(Fid)))\n",
    "Map.addLayer(targetTile, {}, 'Target Tile')\n",
    "\n",
    "# Get collection\n",
    "s2_col = get_s2_cld_col(targetTile, dFilter)\n",
    "s2_col = s2_col.map(uly).map(swath_id)\n",
    "# Remove duplicates in swaths\n",
    "s2_col = ee.ImageCollection(s2_col.distinct('ID'))\n",
    "print('Collection size: ', s2_col.size().getInfo())"
   ]
  },
  {
   "cell_type": "code",
   "execution_count": 35,
   "id": "e1160a0e",
   "metadata": {},
   "outputs": [],
   "source": [
    "badImage = ee.ImageCollection('COPERNICUS/S2_SR').filter(ee.Filter.eq('system:index','20181216T155219_20181216T155215_T17NPC')).first()\n",
    "vizParams = {\n",
    "  'bands': ['B9', 'B5', 'B4'],\n",
    "  'min': 188,\n",
    "  'max': 4103,\n",
    "  'gamma': 1\n",
    "}\n",
    "Map.addLayer(badImage, vizParams, 'badimage')\n"
   ]
  },
  {
   "cell_type": "code",
   "execution_count": 36,
   "id": "9dd7e9b5",
   "metadata": {},
   "outputs": [
    {
     "name": "stdout",
     "output_type": "stream",
     "text": [
      "Metadata properties:  ['DATATAKE_IDENTIFIER', 'AOT_RETRIEVAL_ACCURACY', 'SPACECRAFT_NAME', 'SATURATED_DEFECTIVE_PIXEL_PERCENTAGE', 'system:id', 'MEAN_INCIDENCE_AZIMUTH_ANGLE_B8A', 'CLOUD_SHADOW_PERCENTAGE', 'MEAN_SOLAR_AZIMUTH_ANGLE', 'system:footprint', 'VEGETATION_PERCENTAGE', 'SOLAR_IRRADIANCE_B12', 'system:version', 'SOLAR_IRRADIANCE_B10', 'SENSOR_QUALITY', 'SOLAR_IRRADIANCE_B11', 'GENERATION_TIME', 'SOLAR_IRRADIANCE_B8A', 'FORMAT_CORRECTNESS', 'CLOUD_COVERAGE_ASSESSMENT', 'THIN_CIRRUS_PERCENTAGE', 'system:time_end', 'WATER_VAPOUR_RETRIEVAL_ACCURACY', 'system:time_start', 'DATASTRIP_ID', 'PROCESSING_BASELINE', 'SENSING_ORBIT_NUMBER', 'NODATA_PIXEL_PERCENTAGE', 'SENSING_ORBIT_DIRECTION', 'GENERAL_QUALITY', 'GRANULE_ID', 'REFLECTANCE_CONVERSION_CORRECTION', 'MEDIUM_PROBA_CLOUDS_PERCENTAGE', 'MEAN_INCIDENCE_AZIMUTH_ANGLE_B8', 'DATATAKE_TYPE', 'MEAN_INCIDENCE_AZIMUTH_ANGLE_B9', 'MEAN_INCIDENCE_AZIMUTH_ANGLE_B6', 'MEAN_INCIDENCE_AZIMUTH_ANGLE_B7', 'MEAN_INCIDENCE_AZIMUTH_ANGLE_B4', 'MEAN_INCIDENCE_ZENITH_ANGLE_B1', 'NOT_VEGETATED_PERCENTAGE', 'MEAN_INCIDENCE_AZIMUTH_ANGLE_B5', 'RADIOMETRIC_QUALITY', 'MEAN_INCIDENCE_AZIMUTH_ANGLE_B2', 'MEAN_INCIDENCE_AZIMUTH_ANGLE_B3', 'MEAN_INCIDENCE_ZENITH_ANGLE_B5', 'MEAN_INCIDENCE_AZIMUTH_ANGLE_B1', 'MEAN_INCIDENCE_ZENITH_ANGLE_B4', 'MEAN_INCIDENCE_ZENITH_ANGLE_B3', 'MEAN_INCIDENCE_ZENITH_ANGLE_B2', 'MEAN_INCIDENCE_ZENITH_ANGLE_B9', 'MEAN_INCIDENCE_ZENITH_ANGLE_B8', 'MEAN_INCIDENCE_ZENITH_ANGLE_B7', 'DARK_FEATURES_PERCENTAGE', 'HIGH_PROBA_CLOUDS_PERCENTAGE', 'MEAN_INCIDENCE_ZENITH_ANGLE_B6', 'UNCLASSIFIED_PERCENTAGE', 'MEAN_SOLAR_ZENITH_ANGLE', 'MEAN_INCIDENCE_ZENITH_ANGLE_B8A', 'RADIATIVE_TRANSFER_ACCURACY', 'MGRS_TILE', 'CLOUDY_PIXEL_PERCENTAGE', 'PRODUCT_ID', 'MEAN_INCIDENCE_ZENITH_ANGLE_B10', 'SOLAR_IRRADIANCE_B9', 'SNOW_ICE_PERCENTAGE', 'DEGRADED_MSI_DATA_PERCENTAGE', 'MEAN_INCIDENCE_ZENITH_ANGLE_B11', 'MEAN_INCIDENCE_ZENITH_ANGLE_B12', 'SOLAR_IRRADIANCE_B6', 'MEAN_INCIDENCE_AZIMUTH_ANGLE_B10', 'SOLAR_IRRADIANCE_B5', 'MEAN_INCIDENCE_AZIMUTH_ANGLE_B11', 'SOLAR_IRRADIANCE_B8', 'MEAN_INCIDENCE_AZIMUTH_ANGLE_B12', 'SOLAR_IRRADIANCE_B7', 'SOLAR_IRRADIANCE_B2', 'SOLAR_IRRADIANCE_B1', 'SOLAR_IRRADIANCE_B4', 'GEOMETRIC_QUALITY', 'SOLAR_IRRADIANCE_B3', 'system:asset_size', 'WATER_PERCENTAGE', 'system:index', 'system:bands', 'system:band_names']\n",
      "None\n",
      "None\n"
     ]
    }
   ],
   "source": [
    "properties = badImage.propertyNames()\n",
    "print('Metadata properties: ', properties.getInfo())\n",
    "\n",
    "lpct = badImage.get('lPct')\n",
    "print(lpct.getInfo())\n",
    "\n",
    "cpct = badImage.get('cPct')\n",
    "print(cpct.getInfo())"
   ]
  },
  {
   "cell_type": "code",
   "execution_count": 41,
   "id": "01dbe97f",
   "metadata": {},
   "outputs": [
    {
     "name": "stdout",
     "output_type": "stream",
     "text": [
      "5\n",
      "21.49476679927675\n"
     ]
    }
   ],
   "source": [
    "def getqa60LandMask2(image):\n",
    "    # Get sentinel qa60 60m cloudmask band\n",
    "    qa = image.select('QA60')\n",
    "    cloudBitMask = 1 << 10\n",
    "    cirrusBitMask = 1 << 11\n",
    "    # Find pixels where both cirrus and opaque cloud are zero (not cloudy) in QA60\n",
    "    # Set these pixels to 1\n",
    "    # Set all other values to 0\n",
    "    mask = qa.bitwiseAnd(cloudBitMask).eq(0).And(qa.bitwiseAnd(cirrusBitMask).eq(0)).rename('qa60mask')\n",
    "    # Add land mask\n",
    "    lMask = image.select('SCL')\n",
    "    mask2 = lMask.eq(4).Or(lMask.eq(5)).rename('landmask')\n",
    "    return image.addBands([mask, mask2])\n",
    "aa = getqa60LandMask2(badImage)\n",
    "Map.addLayer(aa.select('landmask'))\n",
    "bb = pctCloudLand(aa)\n",
    "lpct = bb.get('lPct')\n",
    "print(lpct.getInfo())\n",
    "\n",
    "cpct = bb.get('cPct')\n",
    "print(cpct.getInfo())"
   ]
  },
  {
   "cell_type": "code",
   "execution_count": 22,
   "id": "80ac4505",
   "metadata": {},
   "outputs": [],
   "source": [
    "palette = ['111149','cdb33b','369b47']\n",
    "Map.addLayer(s2_col.first().select('QA60'), {'min': 0, 'max': 2048, 'palette': palette}, 'clouds')\n",
    "\n",
    "vizParams = {\n",
    "  'bands': ['B8', 'B4', 'B3'],\n",
    "  'min': 188,\n",
    "  'max': 4103,\n",
    "  'gamma': 1\n",
    "}\n",
    "\n",
    "Map.addLayer(s2_col.first(), vizParams, 'land')"
   ]
  },
  {
   "cell_type": "code",
   "execution_count": 15,
   "id": "9f6577e7",
   "metadata": {},
   "outputs": [
    {
     "name": "stdout",
     "output_type": "stream",
     "text": [
      "Band names:  ['B1', 'B2', 'B3', 'B4', 'B5', 'B6', 'B7', 'B8', 'B8A', 'B9', 'B11', 'B12', 'AOT', 'WVP', 'SCL', 'TCI_R', 'TCI_G', 'TCI_B', 'MSK_CLDPRB', 'MSK_SNWPRB', 'QA10', 'QA20', 'QA60', 'qa60mask', 'landmask']\n"
     ]
    }
   ],
   "source": [
    "ac = ee.ImageCollection('COPERNICUS/S2_SR').filterDate('2019-01-01','2020-01-01')\n",
    "vizParams = {\n",
    "  'bands': ['B8', 'B4', 'B3'],\n",
    "  'min': 188,\n",
    "  'max': 4103,\n",
    "  'gamma': 1\n",
    "}\n",
    "Map.addLayer(ac.first(), vizParams, 'aa')\n",
    "\n",
    "\n",
    "aa = getqa60LandMask(ac.first())\n",
    "\n",
    "\n",
    "bb = pctCloudLand(aa)\n",
    "\n",
    "bandNames = bb.bandNames()\n",
    "print('Band names: ', bandNames.getInfo())\n",
    "palette = ['999999', 'f781bf', 'a65628', 'ffff33', 'ff7f00', '984ea3', '4daf4a', '377eb8', 'e41a1c']\n",
    "Map.addLayer(bb.select('SCL'), {'min':0, 'max':20, 'palette': palette}, 'scl')\n"
   ]
  },
  {
   "cell_type": "code",
   "execution_count": 28,
   "id": "4146141a",
   "metadata": {},
   "outputs": [
    {
     "name": "stdout",
     "output_type": "stream",
     "text": [
      "Metadata properties:  ['DATATAKE_IDENTIFIER', 'AOT_RETRIEVAL_ACCURACY', 'CLOUD_COVERAGE_PERCENTAGE', 'SPACECRAFT_NAME', 'FORMAT_CORRECTNESS_FLAG', 'SATURATED_DEFECTIVE_PIXEL_PERCENTAGE', 'system:id', 'MEAN_INCIDENCE_AZIMUTH_ANGLE_B8A', 'CLOUD_SHADOW_PERCENTAGE', 'MEAN_SOLAR_AZIMUTH_ANGLE', 'system:footprint', 'VEGETATION_PERCENTAGE', 'SOLAR_IRRADIANCE_B12', 'system:version', 'SOLAR_IRRADIANCE_B10', 'SOLAR_IRRADIANCE_B11', 'GENERATION_TIME', 'SOLAR_IRRADIANCE_B8A', 'SENSOR_QUALITY_FLAG', 'CLOUD_COVERAGE_ASSESSMENT', 'THIN_CIRRUS_PERCENTAGE', 'system:time_end', 'WATER_VAPOUR_RETRIEVAL_ACCURACY', 'system:time_start', 'DATASTRIP_ID', 'PROCESSING_BASELINE', 'SENSING_ORBIT_NUMBER', 'GEOMETRIC_QUALITY_FLAG', 'NODATA_PIXEL_PERCENTAGE', 'SENSING_ORBIT_DIRECTION', 'GRANULE_ID', 'LOW_PROBA_CLOUDS_PERCENTAGE', 'REFLECTANCE_CONVERSION_CORRECTION', 'MEDIUM_PROBA_CLOUDS_PERCENTAGE', 'MEAN_INCIDENCE_AZIMUTH_ANGLE_B8', 'DATATAKE_TYPE', 'MEAN_INCIDENCE_AZIMUTH_ANGLE_B9', 'MEAN_INCIDENCE_AZIMUTH_ANGLE_B6', 'MEAN_INCIDENCE_AZIMUTH_ANGLE_B7', 'RADIOMETRIC_QUALITY_FLAG', 'MEAN_INCIDENCE_AZIMUTH_ANGLE_B4', 'MEAN_INCIDENCE_ZENITH_ANGLE_B1', 'MEAN_INCIDENCE_AZIMUTH_ANGLE_B5', 'MEAN_INCIDENCE_AZIMUTH_ANGLE_B2', 'MEAN_INCIDENCE_AZIMUTH_ANGLE_B3', 'MEAN_INCIDENCE_ZENITH_ANGLE_B5', 'MEAN_INCIDENCE_AZIMUTH_ANGLE_B1', 'MEAN_INCIDENCE_ZENITH_ANGLE_B4', 'RADIATIVE_TRANSFER_ACCURAY', 'MEAN_INCIDENCE_ZENITH_ANGLE_B3', 'MEAN_INCIDENCE_ZENITH_ANGLE_B2', 'MEAN_INCIDENCE_ZENITH_ANGLE_B9', 'MEAN_INCIDENCE_ZENITH_ANGLE_B8', 'MEAN_INCIDENCE_ZENITH_ANGLE_B7', 'DARK_FEATURES_PERCENTAGE', 'HIGH_PROBA_CLOUDS_PERCENTAGE', 'MEAN_INCIDENCE_ZENITH_ANGLE_B6', 'MEAN_SOLAR_ZENITH_ANGLE', 'MEAN_INCIDENCE_ZENITH_ANGLE_B8A', 'MGRS_TILE', 'CLOUDY_PIXEL_PERCENTAGE', 'GENERAL_QUALITY_FLAG', 'PRODUCT_ID', 'MEAN_INCIDENCE_ZENITH_ANGLE_B10', 'SOLAR_IRRADIANCE_B9', 'SNOW_ICE_PERCENTAGE', 'DEGRADED_MSI_DATA_PERCENTAGE', 'MEAN_INCIDENCE_ZENITH_ANGLE_B11', 'MEAN_INCIDENCE_ZENITH_ANGLE_B12', 'SOLAR_IRRADIANCE_B6', 'MEAN_INCIDENCE_AZIMUTH_ANGLE_B10', 'SOLAR_IRRADIANCE_B5', 'MEAN_INCIDENCE_AZIMUTH_ANGLE_B11', 'SOLAR_IRRADIANCE_B8', 'MEAN_INCIDENCE_AZIMUTH_ANGLE_B12', 'SOLAR_IRRADIANCE_B7', 'SOLAR_IRRADIANCE_B2', 'SOLAR_IRRADIANCE_B1', 'SOLAR_IRRADIANCE_B4', 'SOLAR_IRRADIANCE_B3', 'BARE_SOILS_PERCENTAGE', 'system:asset_size', 'WATER_PERCENTAGE', 'system:index', 'system:bands', 'system:band_names']\n"
     ]
    }
   ],
   "source": [
    "properties = aa.propertyNames()\n",
    "print('Metadata properties: ', properties.getInfo())"
   ]
  },
  {
   "cell_type": "code",
   "execution_count": 16,
   "id": "4d2f217a",
   "metadata": {},
   "outputs": [
    {
     "name": "stdout",
     "output_type": "stream",
     "text": [
      "0\n",
      "0\n"
     ]
    }
   ],
   "source": [
    "lpct = bb.get('lPct')\n",
    "print(lpct.getInfo())\n",
    "\n",
    "cpct = bb.get('cPct')\n",
    "print(cpct.getInfo())\n",
    "\n"
   ]
  },
  {
   "cell_type": "code",
   "execution_count": 24,
   "id": "7e171a42",
   "metadata": {},
   "outputs": [],
   "source": [
    "vizParams = {\n",
    "  'bands': ['B8', 'B4', 'B3'],\n",
    "  'min': 188,\n",
    "  'max': 4103,\n",
    "  'gamma': 1\n",
    "}\n",
    "Map.addLayer(aa, vizParams, 'aa')"
   ]
  },
  {
   "cell_type": "code",
   "execution_count": 29,
   "id": "72ab2091",
   "metadata": {},
   "outputs": [
    {
     "name": "stdout",
     "output_type": "stream",
     "text": [
      "['projects/ee-jantzenator/assets/sentinel_acorr/SENT2_MEAN_COLOMBIA/Sent2_mean_0_2019_2020', 'projects/ee-jantzenator/assets/sentinel_acorr/SENT2_MEAN_COLOMBIA/Sent2_mean_1_2019_2020', 'projects/ee-jantzenator/assets/sentinel_acorr/SENT2_MEAN_COLOMBIA/Sent2_mean_2_2019_2020', 'projects/ee-jantzenator/assets/sentinel_acorr/SENT2_MEAN_COLOMBIA/Sent2_mean_3_2019_2020', 'projects/ee-jantzenator/assets/sentinel_acorr/SENT2_MEAN_COLOMBIA/Sent2_mean_4_2019_2020', 'projects/ee-jantzenator/assets/sentinel_acorr/SENT2_MEAN_COLOMBIA/Sent2_mean_5_2019_2020', 'projects/ee-jantzenator/assets/sentinel_acorr/SENT2_MEAN_COLOMBIA/Sent2_mean_6_2019_2020', 'projects/ee-jantzenator/assets/sentinel_acorr/SENT2_MEAN_COLOMBIA/Sent2_mean_7_2019_2020', 'projects/ee-jantzenator/assets/sentinel_acorr/SENT2_MEAN_COLOMBIA/Sent2_mean_8_2019_2020', 'projects/ee-jantzenator/assets/sentinel_acorr/SENT2_MEAN_COLOMBIA/Sent2_mean_9_2019_2020', 'projects/ee-jantzenator/assets/sentinel_acorr/SENT2_MEAN_COLOMBIA/Sent2_mean_10_2019_2020', 'projects/ee-jantzenator/assets/sentinel_acorr/SENT2_MEAN_COLOMBIA/Sent2_mean_11_2019_2020', 'projects/ee-jantzenator/assets/sentinel_acorr/SENT2_MEAN_COLOMBIA/Sent2_mean_12_2019_2020', 'projects/ee-jantzenator/assets/sentinel_acorr/SENT2_MEAN_COLOMBIA/Sent2_mean_13_2019_2020', 'projects/ee-jantzenator/assets/sentinel_acorr/SENT2_MEAN_COLOMBIA/Sent2_mean_14_2019_2020', 'projects/ee-jantzenator/assets/sentinel_acorr/SENT2_MEAN_COLOMBIA/Sent2_mean_15_2019_2020', 'projects/ee-jantzenator/assets/sentinel_acorr/SENT2_MEAN_COLOMBIA/Sent2_mean_16_2019_2020', 'projects/ee-jantzenator/assets/sentinel_acorr/SENT2_MEAN_COLOMBIA/Sent2_mean_17_2019_2020', 'projects/ee-jantzenator/assets/sentinel_acorr/SENT2_MEAN_COLOMBIA/Sent2_mean_18_2019_2020', 'projects/ee-jantzenator/assets/sentinel_acorr/SENT2_MEAN_COLOMBIA/Sent2_mean_19_2019_2020', 'projects/ee-jantzenator/assets/sentinel_acorr/SENT2_MEAN_COLOMBIA/Sent2_mean_20_2019_2020', 'projects/ee-jantzenator/assets/sentinel_acorr/SENT2_MEAN_COLOMBIA/Sent2_mean_21_2019_2020', 'projects/ee-jantzenator/assets/sentinel_acorr/SENT2_MEAN_COLOMBIA/Sent2_mean_22_2019_2020', 'projects/ee-jantzenator/assets/sentinel_acorr/SENT2_MEAN_COLOMBIA/Sent2_mean_23_2019_2020', 'projects/ee-jantzenator/assets/sentinel_acorr/SENT2_MEAN_COLOMBIA/Sent2_mean_24_2019_2020', 'projects/ee-jantzenator/assets/sentinel_acorr/SENT2_MEAN_COLOMBIA/Sent2_mean_25_2019_2020', 'projects/ee-jantzenator/assets/sentinel_acorr/SENT2_MEAN_COLOMBIA/Sent2_mean_26_2019_2020', 'projects/ee-jantzenator/assets/sentinel_acorr/SENT2_MEAN_COLOMBIA/Sent2_mean_27_2019_2020', 'projects/ee-jantzenator/assets/sentinel_acorr/SENT2_MEAN_COLOMBIA/Sent2_mean_28_2019_2020', 'projects/ee-jantzenator/assets/sentinel_acorr/SENT2_MEAN_COLOMBIA/Sent2_mean_29_2019_2020', 'projects/ee-jantzenator/assets/sentinel_acorr/SENT2_MEAN_COLOMBIA/Sent2_mean_30_2019_2020', 'projects/ee-jantzenator/assets/sentinel_acorr/SENT2_MEAN_COLOMBIA/Sent2_mean_31_2019_2020', 'projects/ee-jantzenator/assets/sentinel_acorr/SENT2_MEAN_COLOMBIA/Sent2_mean_32_2019_2020', 'projects/ee-jantzenator/assets/sentinel_acorr/SENT2_MEAN_COLOMBIA/Sent2_mean_33_2019_2020', 'projects/ee-jantzenator/assets/sentinel_acorr/SENT2_MEAN_COLOMBIA/Sent2_mean_34_2019_2020', 'projects/ee-jantzenator/assets/sentinel_acorr/SENT2_MEAN_COLOMBIA/Sent2_mean_35_2019_2020', 'projects/ee-jantzenator/assets/sentinel_acorr/SENT2_MEAN_COLOMBIA/Sent2_mean_36_2019_2020', 'projects/ee-jantzenator/assets/sentinel_acorr/SENT2_MEAN_COLOMBIA/Sent2_mean_37_2019_2020', 'projects/ee-jantzenator/assets/sentinel_acorr/SENT2_MEAN_COLOMBIA/Sent2_mean_38_2019_2020', 'projects/ee-jantzenator/assets/sentinel_acorr/SENT2_MEAN_COLOMBIA/Sent2_mean_39_2019_2020', 'projects/ee-jantzenator/assets/sentinel_acorr/SENT2_MEAN_COLOMBIA/Sent2_mean_40_2019_2020', 'projects/ee-jantzenator/assets/sentinel_acorr/SENT2_MEAN_COLOMBIA/Sent2_mean_41_2019_2020', 'projects/ee-jantzenator/assets/sentinel_acorr/SENT2_MEAN_COLOMBIA/Sent2_mean_42_2019_2020', 'projects/ee-jantzenator/assets/sentinel_acorr/SENT2_MEAN_COLOMBIA/Sent2_mean_43_2019_2020', 'projects/ee-jantzenator/assets/sentinel_acorr/SENT2_MEAN_COLOMBIA/Sent2_mean_44_2019_2020', 'projects/ee-jantzenator/assets/sentinel_acorr/SENT2_MEAN_COLOMBIA/Sent2_mean_45_2019_2020', 'projects/ee-jantzenator/assets/sentinel_acorr/SENT2_MEAN_COLOMBIA/Sent2_mean_46_2019_2020', 'projects/ee-jantzenator/assets/sentinel_acorr/SENT2_MEAN_COLOMBIA/Sent2_mean_47_2019_2020', 'projects/ee-jantzenator/assets/sentinel_acorr/SENT2_MEAN_COLOMBIA/Sent2_mean_48_2019_2020', 'projects/ee-jantzenator/assets/sentinel_acorr/SENT2_MEAN_COLOMBIA/Sent2_mean_49_2019_2020', 'projects/ee-jantzenator/assets/sentinel_acorr/SENT2_MEAN_COLOMBIA/Sent2_mean_50_2019_2020', 'projects/ee-jantzenator/assets/sentinel_acorr/SENT2_MEAN_COLOMBIA/Sent2_mean_51_2019_2020', 'projects/ee-jantzenator/assets/sentinel_acorr/SENT2_MEAN_COLOMBIA/Sent2_mean_52_2019_2020', 'projects/ee-jantzenator/assets/sentinel_acorr/SENT2_MEAN_COLOMBIA/Sent2_mean_53_2019_2020', 'projects/ee-jantzenator/assets/sentinel_acorr/SENT2_MEAN_COLOMBIA/Sent2_mean_54_2019_2020', 'projects/ee-jantzenator/assets/sentinel_acorr/SENT2_MEAN_COLOMBIA/Sent2_mean_55_2019_2020', 'projects/ee-jantzenator/assets/sentinel_acorr/SENT2_MEAN_COLOMBIA/Sent2_mean_56_2019_2020', 'projects/ee-jantzenator/assets/sentinel_acorr/SENT2_MEAN_COLOMBIA/Sent2_mean_57_2019_2020', 'projects/ee-jantzenator/assets/sentinel_acorr/SENT2_MEAN_COLOMBIA/Sent2_mean_58_2019_2020', 'projects/ee-jantzenator/assets/sentinel_acorr/SENT2_MEAN_COLOMBIA/Sent2_mean_59_2019_2020', 'projects/ee-jantzenator/assets/sentinel_acorr/SENT2_MEAN_COLOMBIA/Sent2_mean_60_2019_2020', 'projects/ee-jantzenator/assets/sentinel_acorr/SENT2_MEAN_COLOMBIA/Sent2_mean_61_2019_2020', 'projects/ee-jantzenator/assets/sentinel_acorr/SENT2_MEAN_COLOMBIA/Sent2_mean_62_2019_2020', 'projects/ee-jantzenator/assets/sentinel_acorr/SENT2_MEAN_COLOMBIA/Sent2_mean_64_2019_2020', 'projects/ee-jantzenator/assets/sentinel_acorr/SENT2_MEAN_COLOMBIA/Sent2_mean_65_2019_2020', 'projects/ee-jantzenator/assets/sentinel_acorr/SENT2_MEAN_COLOMBIA/Sent2_mean_66_2019_2020', 'projects/ee-jantzenator/assets/sentinel_acorr/SENT2_MEAN_COLOMBIA/Sent2_mean_67_2019_2020', 'projects/ee-jantzenator/assets/sentinel_acorr/SENT2_MEAN_COLOMBIA/Sent2_mean_68_2019_2020', 'projects/ee-jantzenator/assets/sentinel_acorr/SENT2_MEAN_COLOMBIA/Sent2_mean_69_2019_2020', 'projects/ee-jantzenator/assets/sentinel_acorr/SENT2_MEAN_COLOMBIA/Sent2_mean_70_2019_2020', 'projects/ee-jantzenator/assets/sentinel_acorr/SENT2_MEAN_COLOMBIA/Sent2_mean_71_2019_2020', 'projects/ee-jantzenator/assets/sentinel_acorr/SENT2_MEAN_COLOMBIA/Sent2_mean_72_2019_2020', 'projects/ee-jantzenator/assets/sentinel_acorr/SENT2_MEAN_COLOMBIA/Sent2_mean_73_2019_2020', 'projects/ee-jantzenator/assets/sentinel_acorr/SENT2_MEAN_COLOMBIA/Sent2_mean_74_2019_2020', 'projects/ee-jantzenator/assets/sentinel_acorr/SENT2_MEAN_COLOMBIA/Sent2_mean_75_2019_2020', 'projects/ee-jantzenator/assets/sentinel_acorr/SENT2_MEAN_COLOMBIA/Sent2_mean_76_2019_2020', 'projects/ee-jantzenator/assets/sentinel_acorr/SENT2_MEAN_COLOMBIA/Sent2_mean_77_2019_2020', 'projects/ee-jantzenator/assets/sentinel_acorr/SENT2_MEAN_COLOMBIA/Sent2_mean_78_2019_2020', 'projects/ee-jantzenator/assets/sentinel_acorr/SENT2_MEAN_COLOMBIA/Sent2_mean_79_2019_2020', 'projects/ee-jantzenator/assets/sentinel_acorr/SENT2_MEAN_COLOMBIA/Sent2_mean_80_2019_2020', 'projects/ee-jantzenator/assets/sentinel_acorr/SENT2_MEAN_COLOMBIA/Sent2_mean_81_2019_2020', 'projects/ee-jantzenator/assets/sentinel_acorr/SENT2_MEAN_COLOMBIA/Sent2_mean_82_2019_2020', 'projects/ee-jantzenator/assets/sentinel_acorr/SENT2_MEAN_COLOMBIA/Sent2_mean_83_2019_2020', 'projects/ee-jantzenator/assets/sentinel_acorr/SENT2_MEAN_COLOMBIA/Sent2_mean_84_2019_2020', 'projects/ee-jantzenator/assets/sentinel_acorr/SENT2_MEAN_COLOMBIA/Sent2_mean_85_2019_2020', 'projects/ee-jantzenator/assets/sentinel_acorr/SENT2_MEAN_COLOMBIA/Sent2_mean_86_2019_2020', 'projects/ee-jantzenator/assets/sentinel_acorr/SENT2_MEAN_COLOMBIA/Sent2_mean_87_2019_2020', 'projects/ee-jantzenator/assets/sentinel_acorr/SENT2_MEAN_COLOMBIA/Sent2_mean_88_2019_2020', 'projects/ee-jantzenator/assets/sentinel_acorr/SENT2_MEAN_COLOMBIA/Sent2_mean_89_2019_2020', 'projects/ee-jantzenator/assets/sentinel_acorr/SENT2_MEAN_COLOMBIA/Sent2_mean_90_2019_2020', 'projects/ee-jantzenator/assets/sentinel_acorr/SENT2_MEAN_COLOMBIA/Sent2_mean_91_2019_2020', 'projects/ee-jantzenator/assets/sentinel_acorr/SENT2_MEAN_COLOMBIA/Sent2_mean_92_2019_2020', 'projects/ee-jantzenator/assets/sentinel_acorr/SENT2_MEAN_COLOMBIA/Sent2_mean_93_2019_2020', 'projects/ee-jantzenator/assets/sentinel_acorr/SENT2_MEAN_COLOMBIA/Sent2_mean_94_2019_2020', 'projects/ee-jantzenator/assets/sentinel_acorr/SENT2_MEAN_COLOMBIA/Sent2_mean_95_2019_2020', 'projects/ee-jantzenator/assets/sentinel_acorr/SENT2_MEAN_COLOMBIA/Sent2_mean_96_2019_2020', 'projects/ee-jantzenator/assets/sentinel_acorr/SENT2_MEAN_COLOMBIA/Sent2_mean_97_2019_2020', 'projects/ee-jantzenator/assets/sentinel_acorr/SENT2_MEAN_COLOMBIA/Sent2_mean_98_2019_2020', 'projects/ee-jantzenator/assets/sentinel_acorr/SENT2_MEAN_COLOMBIA/Sent2_mean_99_2019_2020', 'projects/ee-jantzenator/assets/sentinel_acorr/SENT2_MEAN_COLOMBIA/Sent2_mean_100_2019_2020', 'projects/ee-jantzenator/assets/sentinel_acorr/SENT2_MEAN_COLOMBIA/Sent2_mean_101_2019_2020', 'projects/ee-jantzenator/assets/sentinel_acorr/SENT2_MEAN_COLOMBIA/Sent2_mean_102_2019_2020', 'projects/ee-jantzenator/assets/sentinel_acorr/SENT2_MEAN_COLOMBIA/Sent2_mean_103_2019_2020', 'projects/ee-jantzenator/assets/sentinel_acorr/SENT2_MEAN_COLOMBIA/Sent2_mean_104_2019_2020', 'projects/ee-jantzenator/assets/sentinel_acorr/SENT2_MEAN_COLOMBIA/Sent2_mean_105_2019_2020', 'projects/ee-jantzenator/assets/sentinel_acorr/SENT2_MEAN_COLOMBIA/Sent2_mean_106_2019_2020', 'projects/ee-jantzenator/assets/sentinel_acorr/SENT2_MEAN_COLOMBIA/Sent2_mean_107_2019_2020', 'projects/ee-jantzenator/assets/sentinel_acorr/SENT2_MEAN_COLOMBIA/Sent2_mean_108_2019_2020', 'projects/ee-jantzenator/assets/sentinel_acorr/SENT2_MEAN_COLOMBIA/Sent2_mean_109_2019_2020', 'projects/ee-jantzenator/assets/sentinel_acorr/SENT2_MEAN_COLOMBIA/Sent2_mean_110_2019_2020', 'projects/ee-jantzenator/assets/sentinel_acorr/SENT2_MEAN_COLOMBIA/Sent2_mean_111_2019_2020', 'projects/ee-jantzenator/assets/sentinel_acorr/SENT2_MEAN_COLOMBIA/Sent2_mean_112_2019_2020', 'projects/ee-jantzenator/assets/sentinel_acorr/SENT2_MEAN_COLOMBIA/Sent2_mean_113_2019_2020', 'projects/ee-jantzenator/assets/sentinel_acorr/SENT2_MEAN_COLOMBIA/Sent2_mean_114_2019_2020', 'projects/ee-jantzenator/assets/sentinel_acorr/SENT2_MEAN_COLOMBIA/Sent2_mean_115_2019_2020', 'projects/ee-jantzenator/assets/sentinel_acorr/SENT2_MEAN_COLOMBIA/Sent2_mean_116_2019_2020', 'projects/ee-jantzenator/assets/sentinel_acorr/SENT2_MEAN_COLOMBIA/Sent2_mean_117_2019_2020', 'projects/ee-jantzenator/assets/sentinel_acorr/SENT2_MEAN_COLOMBIA/Sent2_mean_118_2019_2020', 'projects/ee-jantzenator/assets/sentinel_acorr/SENT2_MEAN_COLOMBIA/Sent2_mean_119_2019_2020', 'projects/ee-jantzenator/assets/sentinel_acorr/SENT2_MEAN_COLOMBIA/Sent2_mean_120_2019_2020', 'projects/ee-jantzenator/assets/sentinel_acorr/SENT2_MEAN_COLOMBIA/Sent2_mean_121_2019_2020', 'projects/ee-jantzenator/assets/sentinel_acorr/SENT2_MEAN_COLOMBIA/Sent2_mean_122_2019_2020', 'projects/ee-jantzenator/assets/sentinel_acorr/SENT2_MEAN_COLOMBIA/Sent2_mean_123_2019_2020', 'projects/ee-jantzenator/assets/sentinel_acorr/SENT2_MEAN_COLOMBIA/Sent2_mean_124_2019_2020', 'projects/ee-jantzenator/assets/sentinel_acorr/SENT2_MEAN_COLOMBIA/Sent2_mean_125_2019_2020', 'projects/ee-jantzenator/assets/sentinel_acorr/SENT2_MEAN_COLOMBIA/Sent2_mean_126_2019_2020', 'projects/ee-jantzenator/assets/sentinel_acorr/SENT2_MEAN_COLOMBIA/Sent2_mean_127_2019_2020', 'projects/ee-jantzenator/assets/sentinel_acorr/SENT2_MEAN_COLOMBIA/Sent2_mean_128_2019_2020', 'projects/ee-jantzenator/assets/sentinel_acorr/SENT2_MEAN_COLOMBIA/Sent2_mean_129_2019_2020', 'projects/ee-jantzenator/assets/sentinel_acorr/SENT2_MEAN_COLOMBIA/Sent2_mean_130_2019_2020', 'projects/ee-jantzenator/assets/sentinel_acorr/SENT2_MEAN_COLOMBIA/Sent2_mean_131_2019_2020', 'projects/ee-jantzenator/assets/sentinel_acorr/SENT2_MEAN_COLOMBIA/Sent2_mean_132_2019_2020', 'projects/ee-jantzenator/assets/sentinel_acorr/SENT2_MEAN_COLOMBIA/Sent2_mean_133_2019_2020', 'projects/ee-jantzenator/assets/sentinel_acorr/SENT2_MEAN_COLOMBIA/Sent2_mean_134_2019_2020', 'projects/ee-jantzenator/assets/sentinel_acorr/SENT2_MEAN_COLOMBIA/Sent2_mean_135_2019_2020', 'projects/ee-jantzenator/assets/sentinel_acorr/SENT2_MEAN_COLOMBIA/Sent2_mean_136_2019_2020', 'projects/ee-jantzenator/assets/sentinel_acorr/SENT2_MEAN_COLOMBIA/Sent2_mean_137_2019_2020', 'projects/ee-jantzenator/assets/sentinel_acorr/SENT2_MEAN_COLOMBIA/Sent2_mean_138_2019_2020', 'projects/ee-jantzenator/assets/sentinel_acorr/SENT2_MEAN_COLOMBIA/Sent2_mean_139_2019_2020', 'projects/ee-jantzenator/assets/sentinel_acorr/SENT2_MEAN_COLOMBIA/Sent2_mean_140_2019_2020', 'projects/ee-jantzenator/assets/sentinel_acorr/SENT2_MEAN_COLOMBIA/Sent2_mean_141_2019_2020', 'projects/ee-jantzenator/assets/sentinel_acorr/SENT2_MEAN_COLOMBIA/Sent2_mean_142_2019_2020', 'projects/ee-jantzenator/assets/sentinel_acorr/SENT2_MEAN_COLOMBIA/Sent2_mean_143_2019_2020']\n"
     ]
    }
   ],
   "source": [
    "vp = {\n",
    "  'bands': ['SWIR_1', 'NIR', 'RED'],\n",
    "  'min': 242,\n",
    "  'max': 4180,\n",
    "  'gamma': 1\n",
    "}\n",
    "\n",
    "ids = range(0,144)\n",
    "a = 'projects/ee-jantzenator/assets/sentinel_acorr/SENT2_MEAN_COLOMBIA/Sent2_mean_'\n",
    "b = '_2019_2020'\n",
    "ilist = list()\n",
    "[ilist.append(a+str(m)+b) for m in ids if m != 63]\n",
    "    \n",
    "print(ilist)\n",
    "ic = ee.ImageCollection(ilist)\n",
    "Map.addLayer(ic.mosaic(), vp, 'meanMosaic')"
   ]
  },
  {
   "cell_type": "code",
   "execution_count": 17,
   "id": "e0754429",
   "metadata": {},
   "outputs": [],
   "source": [
    "Map.addLayer(ee.Image('projects/ee-jantzenator/assets/sentinel_acorr/SENT2_MEAN_COLOMBIA/Sent2_mean_0_2019_2020'))"
   ]
  },
  {
   "cell_type": "code",
   "execution_count": 32,
   "id": "f3aecbed",
   "metadata": {},
   "outputs": [
    {
     "data": {
      "text/plain": [
       "86"
      ]
     },
     "execution_count": 32,
     "metadata": {},
     "output_type": "execute_result"
    }
   ],
   "source": [
    "230-144"
   ]
  },
  {
   "cell_type": "code",
   "execution_count": null,
   "id": "ba04e9dd",
   "metadata": {},
   "outputs": [],
   "source": []
  }
 ],
 "metadata": {
  "kernelspec": {
   "display_name": "Python 3 (ipykernel)",
   "language": "python",
   "name": "python3"
  },
  "language_info": {
   "codemirror_mode": {
    "name": "ipython",
    "version": 3
   },
   "file_extension": ".py",
   "mimetype": "text/x-python",
   "name": "python",
   "nbconvert_exporter": "python",
   "pygments_lexer": "ipython3",
   "version": "3.10.10"
  }
 },
 "nbformat": 4,
 "nbformat_minor": 5
}
