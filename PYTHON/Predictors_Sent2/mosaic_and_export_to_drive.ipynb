{
 "cells": [
  {
   "cell_type": "code",
   "execution_count": 2,
   "id": "0833f579",
   "metadata": {},
   "outputs": [],
   "source": [
    "import ee\n",
    "import geemap"
   ]
  },
  {
   "cell_type": "code",
   "execution_count": 3,
   "id": "4180f668",
   "metadata": {},
   "outputs": [],
   "source": [
    "#ee.Authenticate()\n",
    "ee.Initialize()"
   ]
  },
  {
   "cell_type": "code",
   "execution_count": 4,
   "id": "5d18753a",
   "metadata": {},
   "outputs": [
    {
     "data": {
      "text/plain": [
       "{'type': 'Date', 'value': 1435400731456}"
      ]
     },
     "execution_count": 4,
     "metadata": {},
     "output_type": "execute_result"
    }
   ],
   "source": [
    "# Test connection\n",
    "ac = ee.ImageCollection('COPERNICUS/S2')\n",
    "ac.first().date().getInfo()"
   ]
  },
  {
   "cell_type": "code",
   "execution_count": 5,
   "id": "df313cc4",
   "metadata": {},
   "outputs": [],
   "source": [
    "# Tile file path\n",
    "tileFile = r\"G:\\My Drive\\Projects\\nasa_geo_colombia\\geodata\\camilo_assets\\GRID_COLOMBIA.shp\"\n",
    "tiles = ee.FeatureCollection('users/jf2238/GRID_COLOMBIA')\n"
   ]
  },
  {
   "cell_type": "code",
   "execution_count": 6,
   "id": "1b48bd81",
   "metadata": {},
   "outputs": [],
   "source": [
    "# Runflags\n",
    "r1 = False # mean\n",
    "r2 = False # sd\n",
    "r3 = False # savg\n",
    "r4 = True # dvar\n",
    "\n",
    "# Set up names and folders (need two because I missnamed the Sentinel 1 outputs)\n",
    "if r1:\n",
    "    ifolder = \"SENT2_MEAN_COLOMBIA\"\n",
    "    ofolder = \"SENT2_MEAN_COLOMBIA\"\n",
    "    iname = \"Sent2_mean\"\n",
    "    oname = \"Sent2_mean\"\n",
    "if r2:\n",
    "    ifolder = \"SENT2_SD_COLOMBIA\"\n",
    "    ofolder = \"SENT2_SD_COLOMBIA\"\n",
    "    iname = \"Sent2_sd\"\n",
    "    oname = \"Sent2_sd\"\n",
    "if r3:\n",
    "    ifolder = \"SENT2_SAVG_COLOMBIA\"\n",
    "    ofolder = \"SENT1_SAVG_COLOMBIA\"\n",
    "    iname = \"Sent2_savg\"\n",
    "    oname = \"Sent1_savg\"\n",
    "if r4:\n",
    "    ifolder = \"SENT2_DVAR_COLOMBIA\"\n",
    "    ofolder = \"SENT1_DVAR_COLOMBIA\"\n",
    "    iname = \"Sent2_dvar\"\n",
    "    oname = \"Sent1_dvar\""
   ]
  },
  {
   "cell_type": "code",
   "execution_count": 7,
   "id": "67e8b031",
   "metadata": {},
   "outputs": [
    {
     "name": "stdout",
     "output_type": "stream",
     "text": [
      "210\n"
     ]
    }
   ],
   "source": [
    "# Loop through tiles\n",
    "#for Fid in list(list(range(0,100))):\n",
    "#for Fid in list(list(range(100,200))):\n",
    "#for Fid in list(list(range(200,209))+list(range(210,230))):\n",
    "#for Fid in list(range(211,230)):\n",
    "for Fid in [210]:\n",
    "\n",
    "    print(Fid)\n",
    "    # Get a tile\n",
    "    targetTile = tiles.filter(ee.Filter.eq('FID_STRING', str(Fid)))\n",
    "\n",
    "    # Date strings for each mosaic\n",
    "    dString1 = '2019_2020'\n",
    "    dString2 = '2017_18_2021_22'\n",
    "    \n",
    "    # Read mosaics to vars\n",
    "    M1 = ee.Image(\"projects/ee-gedibio/assets/co_sentinel_mosaics/\" + ifolder + \"/\" + iname + \"_\" + str(Fid) + \"_\" + dString1)\n",
    "    M2 = ee.Image(\"projects/ee-gedibio/assets/co_sentinel_mosaics/\" + ifolder + \"/\" + iname + \"_\" + str(Fid) + \"_\" + dString2)\n",
    "\n",
    "    # Mosaic\n",
    "    MM = ee.ImageCollection([M2, M1]).mosaic().clip(targetTile).int16()\n",
    "\n",
    "    # Export to drive\n",
    "    task = ee.batch.Export.image.toDrive(image=MM, description=oname + \"_\" + str(Fid), folder=ofolder,\n",
    "                                        maxPixels=1e13, scale=25, region=targetTile.geometry())\n",
    "    task.start()\n"
   ]
  },
  {
   "cell_type": "code",
   "execution_count": null,
   "id": "155d806e",
   "metadata": {},
   "outputs": [],
   "source": []
  }
 ],
 "metadata": {
  "kernelspec": {
   "display_name": "Python 3 (ipykernel)",
   "language": "python",
   "name": "python3"
  },
  "language_info": {
   "codemirror_mode": {
    "name": "ipython",
    "version": 3
   },
   "file_extension": ".py",
   "mimetype": "text/x-python",
   "name": "python",
   "nbconvert_exporter": "python",
   "pygments_lexer": "ipython3",
   "version": "3.10.10"
  }
 },
 "nbformat": 4,
 "nbformat_minor": 5
}
